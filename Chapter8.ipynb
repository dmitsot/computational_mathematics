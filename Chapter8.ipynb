{
 "cells": [
  {
   "cell_type": "markdown",
   "metadata": {},
   "source": [
    "# Computational Mathematics\n",
    "## An Introduction to Numerical Analysis and Scientific Computing with Python\n",
    "### By Dimitrios Mitsotakis"
   ]
  },
  {
   "cell_type": "markdown",
   "metadata": {},
   "source": [
    "# Chapter 8: Numerical Differentiation"
   ]
  },
  {
   "cell_type": "markdown",
   "metadata": {},
   "source": [
    "## First Order Finite Difference Approximations\n",
    "\n",
    "### Forward Differences\n",
    "\n",
    "Assume that we want to approximate the derivative of a function $f'(x_0)$ at a point $x=x_0$.\n",
    "\n",
    "From the definition of the derivative we know that\n",
    "\n",
    "$$\n",
    "f'(x_0)=\\lim_{x\\to x_0}\\frac{f(x)-f(x_0)}{x-x_0}\n",
    "$$\n",
    "\n",
    "Taking $x=x_1$ very  close to $x_0$ we have that\n",
    "\n",
    "$$\n",
    "f'(x_0)\\approx \\frac{f(x_1)-f(x_0)}{x_1-x_0}\n",
    "$$\n",
    "\n",
    "This difference quotient is known as finite difference approximation of the derivative\n",
    "\n"
   ]
  },
  {
   "cell_type": "markdown",
   "metadata": {},
   "source": [
    "#### Example\n",
    "\n",
    "Consider for example the function $f(x)=x\\sin(x)$ and assume that we want to find the derivative $f'(\\pi/2)$.\n",
    "\n",
    "We know that $f'(x)=\\sin(x)+x\\cos(x)$ and thus $f'(\\pi/2)=1$. \n",
    "\n",
    "Using the finite different approximation that we have derived with $x_1=\\pi/2+0.01$ and $x_0=\\pi/2$ we get:"
   ]
  },
  {
   "cell_type": "code",
   "execution_count": 1,
   "metadata": {},
   "outputs": [],
   "source": [
    "import numpy as np"
   ]
  },
  {
   "cell_type": "code",
   "execution_count": 2,
   "metadata": {},
   "outputs": [
    {
     "name": "stdout",
     "output_type": "stream",
     "text": [
      "df(x) = 0.992096084232319 Error = 0.007903915767681013\n"
     ]
    }
   ],
   "source": [
    "def f(x):\n",
    "    y = x*np.sin(x)\n",
    "    return y\n",
    "\n",
    "x0 = np.pi/2\n",
    "\n",
    "h = 0.01\n",
    "\n",
    "derivative = ( f(x0+h) - f(x0) ) / h\n",
    "print('df(x) =',derivative, 'Error =',np.abs(derivative-1.0))"
   ]
  },
  {
   "cell_type": "markdown",
   "metadata": {},
   "source": [
    "Observe that the approximation is quite good, and if we take the value of `x1` closer to `x0` the result is getting better"
   ]
  },
  {
   "cell_type": "markdown",
   "metadata": {},
   "source": [
    "### Backward Differences\n",
    "\n",
    "We can write the derivative as\n",
    "\n",
    "$$\n",
    "\\begin{aligned}\n",
    "f'(x_0)&=\\lim_{x\\to x_0}\\frac{f(x)-f(x_0)}{x-x_0}\\\\\n",
    "&=\\lim_{x\\to x_0}\\frac{f(x_0)-f(x)}{x_0-x}\\\\\n",
    "(\\mbox{ set } h=x_0-x) &= \\lim_{h\\to 0} \\frac{f(x_0)-f(x_0-h)}{h}\n",
    "\\end{aligned}\n",
    "$$\n",
    "\n",
    "So taking $h$ very small ($h\\ll 1$) we can see that\n",
    "$$\n",
    "f'(x_0)\\approx \\frac{f(x_0)-f(x_0-h)}{h}\n",
    "$$\n",
    "\n",
    "This approximation is called **backward difference approximation**\n",
    "\n",
    "Similarely, we can compute the previous derivative again using the simple code:"
   ]
  },
  {
   "cell_type": "code",
   "execution_count": 3,
   "metadata": {},
   "outputs": [
    {
     "name": "stdout",
     "output_type": "stream",
     "text": [
      "df(x) = 1.0078039166010244 Error = 0.007803916601024419\n"
     ]
    }
   ],
   "source": [
    "x0 = np.pi/2\n",
    "h = 0.01\n",
    "\n",
    "derivative = ( f(x0) - f(x0-h) ) / h\n",
    "print('df(x) =',derivative, 'Error =',np.abs(derivative-1.0))"
   ]
  },
  {
   "cell_type": "markdown",
   "metadata": {},
   "source": [
    "## Second Order Accurate Finite Difference Approximations\n",
    "\n",
    "Consider now the following formulas for the derivative:\n",
    "\n",
    "$$f'(x_0)=\\lim_{h\\to 0}\\frac{f(x_0+h)-f(x_0)}{h}$$\n",
    "\n",
    "and\n",
    "\n",
    "$$f'(x_0)=\\lim_{h\\to 0}\\frac{f(x_0)-f(x_0-h)}{h}$$\n",
    "\n",
    "Adding these two formulas we get\n",
    "\n",
    "$$2 f'(x_0)=\\lim_{h\\to 0}\\frac{f(x_0+h)-f(x_0-h)}{h}$$\n",
    "\n",
    "and dividing by 2:\n",
    "\n",
    "$$f'(x_0)=\\lim_{h\\to 0}\\frac{f(x_0+h)-f(x_0-h)}{2h}$$\n",
    "\n",
    "So taking small $h\\ll 1$ we get the **central difference approximation**:\n",
    "\n",
    "\n",
    "$$f'(x_0)\\approx \\frac{f(x_0+h)-f(x_0-h)}{2h}$$\n",
    "\n",
    "And here is what we get in our case with $f(x)=x\\sin(x)$ and $x_0=\\pi/2$:"
   ]
  },
  {
   "cell_type": "code",
   "execution_count": 4,
   "metadata": {},
   "outputs": [
    {
     "name": "stdout",
     "output_type": "stream",
     "text": [
      "df(x)= 0.9999500004166717 Error= 4.999958332829735e-05\n"
     ]
    }
   ],
   "source": [
    "x0 = np.pi/2.0\n",
    "h = 0.01\n",
    "\n",
    "derivative = (f(x0+h) - f(x0-h))/(2.0*h)\n",
    "print('df(x)=',derivative, 'Error=',np.abs(derivative-1.0))"
   ]
  },
  {
   "cell_type": "markdown",
   "metadata": {},
   "source": [
    "**Remark:** Observe that for $h=0.01$ the forward and backward differences give the derivative with 2 correct decimal digits, while the central difference approximation gives the derivative with 4 correct decimal digits. The reason for that is that the central difference approximation has convergence rate 2 while for the other approximations is 1."
   ]
  },
  {
   "cell_type": "markdown",
   "metadata": {},
   "source": [
    "## Second-Order Derivatives\n",
    "\n",
    "Assume now that we want to approximate the second derivative $f''(x_0)$.\n",
    "\n",
    "In order to derive a formula for this derivative we again take the following Taylor polynomials:\n",
    "\n",
    "$$f(x_0+h)=f(x_0)+hf'(x_0)+\\frac{h^2}{2!}f''(x_0)+\\frac{h^3}{3!}f'''(x)+\\frac{h^4}{4!}f^{(4)}(c_1)$$\n",
    "\n",
    "and\n",
    "\n",
    "$$f(x_0-h)=f(x_0)-hf'(x_0)+\\frac{h^2}{2!}f''(x_0)-\\frac{h^3}{3!}f'''(x)+\\frac{h^4}{4!}f^{(4)}(c_2)$$\n",
    "\n",
    "But since we want to find the second derivative we need to add them so as to cancel the first and third-order derivatives:\n",
    "\n",
    "$$f(x_0+h)+f(x_0-h)=2f(x_0)+h^2f''(x_0)+\\frac{h^4}{24}(f^{(4)}(c_1)+f^{(4)}(c_2))$$\n",
    "\n",
    "Solving for $f''(x_0)$ we have\n",
    "\n",
    "$$f''(x_0)=\\frac{f(x_0+h)-2f(x_0)+f(x_0-h)}{h^2}-\\frac{h^2}{24}(f^{(4)}(c_1)+f^{(4)}(c_2))$$\n",
    "\n",
    "or better\n",
    "\n",
    "$$f''(x_0)=\\frac{f(x_0+h)-2f(x_0)+f(x_0-h)}{h^2}+\\mathcal{O}(h^2)$$\n",
    "\n",
    "which is 2nd order accurate."
   ]
  },
  {
   "cell_type": "markdown",
   "metadata": {},
   "source": [
    "#### Example\n",
    "\n",
    "Consider again the function $f(x)=x\\sin(x)$ and $x_0=\\pi/2$.\n",
    "\n",
    "Now $f''(x)=2\\cos(x)-x\\sin(x)$ and thus $f''(\\pi/2)=-\\pi/2$"
   ]
  },
  {
   "cell_type": "code",
   "execution_count": 5,
   "metadata": {
    "scrolled": true
   },
   "outputs": [
    {
     "name": "stdout",
     "output_type": "stream",
     "text": [
      "d2f(x) = -1.5707832368705432 Error = 1.3089924353337778e-05\n"
     ]
    }
   ],
   "source": [
    "x0 = np.pi/2\n",
    "h = 0.01\n",
    "\n",
    "derivative2 = (f(x0+h) - 2.0*f(x0) + f(x0-h))/(h**2)\n",
    "print('d2f(x) =',derivative2, 'Error =',np.abs(derivative2-(-np.pi/2)))"
   ]
  },
  {
   "cell_type": "markdown",
   "metadata": {},
   "source": [
    "## Richardson's Extrapolation\n",
    "\n",
    "Assume we want to compute a quantity $D$ that can be approximated by $d(h)$ with an error $E(h)$:\n",
    "\n",
    "$$D=d(h)+E(h)$$\n",
    "\n",
    "For example if $D=f'(x_0)$ and $d(h)=(f(x_0+h)-f(x_0))/h$ then $E(h)=ch$.\n",
    "\n",
    "In general the error function $E(h)=c h^p$ for some power $p$.\n",
    "\n",
    "Richardson extrapolation is a computation to eliminate the error and compute the actual quantity with better accuracy. \n",
    "\n",
    "This can be done by considering two different values of the parameter $h_1$ and $h_2$. \n",
    "\n",
    "Then we have:\n",
    "\n",
    "$$D = d(h_1)+ch_1^p$$\n",
    "\n",
    "and \n",
    "\n",
    "$$D = d(h_2)+c h_2^p$$\n",
    "\n",
    "Eliminating the constant $c$ we obtain a new formula for the quantity $D$:\n",
    "\n",
    "$$D=\\frac{(h_1/h_2)^pd(h_2)-d(h_1)}{(h_1/h_2)^p-1}$$\n",
    "\n",
    "and if we take for simplicity $h_2=h_1/2$ we obtain:\n",
    "\n",
    "$$D=\\frac{2^p d(h_1/2)-d(h_1)}{2^p-1}$$\n",
    "\n",
    "In the case of the forward differences we will have:"
   ]
  },
  {
   "cell_type": "code",
   "execution_count": 6,
   "metadata": {},
   "outputs": [
    {
     "name": "stdout",
     "output_type": "stream",
     "text": [
      "df(x) = 1.000024950548184 Error = 2.4950548183966248e-05\n"
     ]
    }
   ],
   "source": [
    "x0 = np.pi/2\n",
    "h = 0.01\n",
    "\n",
    "d1 = (f(x0+h) - f(x0))/h\n",
    "d2 = (f(x0+h/2.0) - f(x0))/(h/2.0)\n",
    "\n",
    "derivative = 2.0*d2-d1\n",
    "print('df(x) =',derivative, 'Error =',np.abs(derivative-1.0))"
   ]
  },
  {
   "cell_type": "markdown",
   "metadata": {},
   "source": [
    "We observe that the error became of $\\mathcal{O}(h^2)$\n",
    "\n",
    "while the new formula for the approximation of the derivative is:\n",
    "\n",
    "$$\n",
    "f'(x_0)\\approx \\frac{f(x_0+h)+f(x_0+h/2)-2f(x_0)}{h}\n",
    "$$"
   ]
  },
  {
   "cell_type": "markdown",
   "metadata": {},
   "source": [
    "## Applications to ordinary differential equations"
   ]
  },
  {
   "cell_type": "markdown",
   "metadata": {},
   "source": [
    "We will introduce the simplest method for the numerical integration of o.d.e.'s namely the Euler method. We will study also the convergence of the method."
   ]
  },
  {
   "cell_type": "markdown",
   "metadata": {},
   "source": [
    "## Euler Method"
   ]
  },
  {
   "cell_type": "markdown",
   "metadata": {},
   "source": [
    "The object of Euler's method is to obtain approximations to the well-posed initial-value problem\n",
    "\n",
    "$$\\frac{d}{dt}y(t)=f(t,y(t)),\\quad a\\leq t\\leq b,\\quad y(a)=y_0$$\n",
    "\n",
    "Approximation to $y(t)$ will be obtained at various points called *mesh points* or *nodes*, in the interval $[a,b]$.\n",
    "\n",
    "Once the approximate solution is obtained at the mesh points, the approximate solution at other points in the interval can be found by interpolation."
   ]
  },
  {
   "cell_type": "markdown",
   "metadata": {},
   "source": [
    "#### Set-up an equally-distributed mesh\n",
    "\n",
    "We first make the assumption that the mesh points $a = t_0 < t_1 < \\cdots < t_N = b$ are equally distributed throughout the interval $[a,b]$.\n",
    "\n",
    "This condition is ensured by choosing a positive integer $N$ and selecting the mesh points\n",
    "\n",
    "$$t_i=a+i\\cdot h,\\quad \\mbox{for each } i=0,1,2,\\ldots, N.$$\n",
    "\n",
    "The common distance between the points \n",
    "\n",
    "$$h=\\frac{b-a}{N}=t_{i+1}-t_i$$\n",
    "\n",
    "is called the *stepsize* or *timestep*."
   ]
  },
  {
   "cell_type": "markdown",
   "metadata": {},
   "source": [
    "#### Derivation of the method\n",
    "\n",
    "The simplest derivation is to approximate the derivative at a mesh point by the forward finite difference:\n",
    "\n",
    "$$\\frac{d}{dt}y(t_i)\\approx \\frac{y(t_{i+1})-y(t_i)}{t_{i+1}-t_i}$$\n",
    "\n",
    "and assume that you have computed the approximation $y_i\\approx y(t_i)$. Then the o.d.e at $t=t_i$ can be approximated by the finite difference formula:\n",
    "\n",
    "$$\\frac{y_{i+1}-y_i}{h}=f(t_i,y_i)$$\n",
    "\n",
    "and thus the solution at the next timestep $y(t_{i+1})\\approx y_{i+1}$ can be approximated by\n",
    "\n",
    "$$y_{i+1}=y_i+h f(t_i,y_i).$$\n",
    "\n",
    "So given the initial condition $y(t_0)=y_0$ we can compute\n",
    "\n",
    "$$y(t_1)\\approx y_1=y_0+h f(t_0,y_0)$$\n",
    "\n",
    "and then given $y_1$ we can compute\n",
    "\n",
    "$$y(t_2)\\approx y_2=y_1+h f(t_1,y_1)$$\n",
    "\n",
    "etc.\n",
    "\n",
    "This will give the approximate solution at the mesh points $(y_0, y_1, \\dots, y_N)$ only but usually is enough since we can construct an approximation of the solution at any $x\\in(a,b)$ using interpolation."
   ]
  },
  {
   "cell_type": "code",
   "execution_count": 7,
   "metadata": {},
   "outputs": [],
   "source": [
    "import numpy as np\n",
    "import matplotlib.pyplot as plt"
   ]
  },
  {
   "cell_type": "code",
   "execution_count": 8,
   "metadata": {},
   "outputs": [
    {
     "data": {
      "image/png": "[encoded data removed]",
      "text/plain": [
       "<Figure size 640x480 with 1 Axes>"
      ]
     },
     "metadata": {},
     "output_type": "display_data"
    }
   ],
   "source": [
    "def f(t, y):\n",
    "    return y\n",
    "\n",
    "def euler(t, f, y0):\n",
    "    n = len(t)\n",
    "    y = np.zeros(n)\n",
    "    h = (t[-1]-t[0])/(n-1)\n",
    "    y[0]=y0\n",
    "    for i in range(n-1):\n",
    "        y[i+1] = y[i]+h*f(t[i], y[i])\n",
    "    return y\n",
    "\n",
    "a = 0.0; b = 2.0; N = 20\n",
    "t = np.linspace(a, b, N+1)\n",
    "y0 = 1.0\n",
    "y = euler(t,f,y0)\n",
    "# Plot the results\n",
    "fig = plt.figure()\n",
    "axes = fig.add_subplot(1, 1, 1)\n",
    "axes.plot(t, y, '-o', label=\"Euler\")\n",
    "axes.plot(t, np.exp(t), '-d', label=\"Exact solution\")\n",
    "axes.set_xlabel(\"t\")\n",
    "axes.set_ylabel(\"y\")\n",
    "axes.legend(loc=2)\n",
    "plt.show()"
   ]
  },
  {
   "cell_type": "markdown",
   "metadata": {},
   "source": [
    "## The Improved Euler Method\n",
    "\n",
    "We will derive a method with second order accuracy.\n",
    "\n",
    "As always we consider the general first-order o.d.e. system\n",
    "\n",
    "$$y'(t)=f(t,y(t))$$\n",
    "\n",
    "Since we want to construct a second-order method, we start with the Taylor expansion\n",
    "\n",
    "$$y(t+h)=y(t)+hy'(t)+\\frac{h^2}{2}y''(t)+O(h^3)$$\n",
    "\n",
    "The first derivative can be replaced by the right-hand side of the differential equation, and the second derivative is obtained by differentiating again the o.d.e., i.e.\n",
    "\n",
    "$$\n",
    "\\begin{aligned}\n",
    "y''(t)&=f_t(t,y)+f_y(t,y)y'(t)\\\\\n",
    "&= f_t(t,y)+f_y(t,y)f(t,y),\n",
    "\\end{aligned}\n",
    "$$\n",
    "\n",
    "Therefore, the Taylor expansion becomes\n",
    "\n",
    "$$\n",
    "\\begin{aligned}\n",
    "y(t+h)&=y(t)+hf+\\frac{h^2}{2}\\left[ f_t(t,y)+f_y(t,y)f(t,y) \\right]+O(h^3)\\\\\n",
    "&= y(t)+\\frac{h}{2}f(t,y)+\\frac{h}{2}\\left[f(t,y)+hf_t(t,y)+hf_y(t,y)f(t,y) \\right]+O(h^3)\n",
    "\\end{aligned}\n",
    "$$\n",
    "\n",
    "Recalling the multivariate Taylor expansion\n",
    "\n",
    "$$f(t+h,y+k)=f(t,y)+hf_t(t,y)+f_y(t,y)k+\\ldots $$\n",
    "\n",
    "We see that the expression in the square brackets can be interpreted as\n",
    "\n",
    "$$f(t+h,y+hf(t,y))=f(t,y)+hf_t(t,y)+hf_y(t,y)f(t,y)+O(h^2)$$\n",
    "\n",
    "Therefore, we get \n",
    "\n",
    "$$y(t+h)=y(t)+\\frac{h}{2}f(t,y)+\\frac{h}{2}f(t+h,y+hf(t,y))+O(h^3)$$\n",
    "\n",
    "or the numerical method\n",
    "\n",
    "$$y_{i+1}=y_i+h\\left(\\frac{1}{2}k_1+\\frac{1}{2}k_2 \\right)$$\n",
    "\n",
    "with \n",
    "\n",
    "$$\n",
    "\\begin{aligned}\n",
    "k_1 &= f(t_i,y_i)\\\\\n",
    "k_2 &= f(t_i+h,y_i+hk_1).\n",
    "\\end{aligned}\n",
    "$$\n",
    "\n",
    "This is the **classical second-order Runge-Kutta method**. It is also known as the **improved Euler method**.\n"
   ]
  },
  {
   "cell_type": "code",
   "execution_count": 9,
   "metadata": {},
   "outputs": [
    {
     "data": {
      "image/png": "[encoded data removed]",
      "text/plain": [
       "<Figure size 640x480 with 1 Axes>"
      ]
     },
     "metadata": {},
     "output_type": "display_data"
    }
   ],
   "source": [
    "def f(t, y):\n",
    "    return y\n",
    "\n",
    "def improved_euler(t, f, y0):\n",
    "    n = len(t)\n",
    "    y = np.zeros(n)\n",
    "    h = (t[-1]-t[0])/(n-1)\n",
    "    y[0]=y0\n",
    "    for i in range(n-1):\n",
    "        k1 = f(t[i], y[i])\n",
    "        k2 = f(t[i+1], y[i] + h*k1)\n",
    "        y[i+1] = y[i] + 0.5*h*(k1+k2)\n",
    "    return y\n",
    "\n",
    "a = 0.0; b = 2.0; N = 10\n",
    "t = np.linspace(a, b, N+1)\n",
    "y0 = 1.0\n",
    "y = improved_euler(t, f, y0)\n",
    "# Plot the results\n",
    "fig = plt.figure()\n",
    "axes = fig.add_subplot(1, 1, 1)\n",
    "axes.plot(t, y, '-o', label=\"Improved Euler\")\n",
    "axes.plot(t, np.exp(t), '-d', label=\"Exact solution\")\n",
    "axes.set_xlabel(\"t\")\n",
    "axes.set_ylabel(\"y\")\n",
    "axes.legend(loc=2)\n",
    "plt.show()"
   ]
  },
  {
   "cell_type": "markdown",
   "metadata": {},
   "source": [
    "### The notion of stability"
   ]
  },
  {
   "cell_type": "markdown",
   "metadata": {},
   "source": [
    "Let's see first a problematic situation. Consider the very simple ordinary differential equation \n",
    "$$y'(t)=\\lambda y(t),\\quad \\lambda<0\\ ,$$\n",
    "with initial condition $y(0)=1$. The exact solution of this problem is the function $y(t)=e^{\\lambda t}$. Let's try using our code, the case with $\\lambda=-10$ and with $N=5$. In this case, the timestep $h=0.4$ which is large. \n"
   ]
  },
  {
   "cell_type": "code",
   "execution_count": 10,
   "metadata": {},
   "outputs": [
    {
     "data": {
      "image/png": "[encoded data removed]",
      "text/plain": [
       "<Figure size 640x480 with 1 Axes>"
      ]
     },
     "metadata": {},
     "output_type": "display_data"
    }
   ],
   "source": [
    "def f(t, y):\n",
    "    return -10.0*y\n",
    "a = 0.0; b = 2.0; N = 5\n",
    "h = (b-a)/N\n",
    "t = np.linspace(a, b, N+1)\n",
    "y0 = 1.0\n",
    "y = euler(t, f, y0)\n",
    "# Plot the results\n",
    "fig = plt.figure()\n",
    "axes = fig.add_subplot(1, 1, 1)\n",
    "axes.plot(t, y, '-o', label=\"Euler\")\n",
    "axes.plot(t, np.exp(-10*t), '-d', label=\"Exact solution\")\n",
    "axes.set_xlabel(\"t\")\n",
    "axes.set_ylabel(\"y\")\n",
    "axes.legend(loc=2)\n",
    "plt.show()"
   ]
  },
  {
   "cell_type": "markdown",
   "metadata": {},
   "source": [
    "To understand why this is happening, we apply Euler's method to the equation $y'(t)=\\lambda y(t)$ for $\\lambda<0$. This gives\n",
    "$y_{n+1}=y_n+h\\lambda y_n$, or even better \n",
    "$$y_{n+1}=(1+h\\lambda)y_n,\\quad n=0,1,2,\\dots, \\quad \\mbox{ and }\\quad y_0=1\\ .$$\n",
    "It can easily be seen that the previous recursive sequence can be expressed explicitly as\n",
    "$$y_n=(1+h\\lambda)^n, \\quad n=0, 1,\\dots\\ .$$\n",
    "So, we have that\n",
    "$$\n",
    "\\begin{array}{ll}\n",
    " |y_n|\\to 0, & \\mbox{ if } |1+h\\lambda|<1\\ , \\\\\n",
    " |y_n|=1, & \\mbox{ if } |1+h\\lambda|=1\\ , \\\\\n",
    " |y_n|\\to \\infty, & \\mbox{ if } |1+h\\lambda|>1\\ . \n",
    "\\end{array}\n",
    "$$\n",
    "\n",
    "Therefore, for stability we need $|1+h\\lambda|<1$. Solving this inequality for $h\\lambda$ yields $-2<h\\lambda<2$. Since $h>0$ and $\\lambda<0$, we need $h\\lambda\\in (-2,0)$ or else $h<-2/\\lambda$ for stability. In our previous example where $\\lambda=-10$ this means $h<0.2$ and this explains the unwanted behavior for $h=0.4>0.2$. "
   ]
  },
  {
   "cell_type": "markdown",
   "metadata": {},
   "source": [
    "### The module `scipy.integrate`"
   ]
  },
  {
   "cell_type": "markdown",
   "metadata": {},
   "source": [
    "Several functions for the numerical solution of general initial value problems of ordinary differential equations are available in `scipy.integrate` module of SciPy. Specifically, among the many solvers of the module `integrate` one can find the explicit Runge-Kutta-Fehlberg methods 23 and 45 implemented in the functions `RK23` and `RK45`, and the implicit Radau IIA method of order 5, implemented in the function `Radau`. In general, Radau methods with $s$ stages have order of convergence $2s-1$. All these methods can also be called via the function `solve_ivp` which we present next."
   ]
  },
  {
   "cell_type": "markdown",
   "metadata": {},
   "source": [
    "In order to demonstrate the usage of the function `solve_ivp` we consider again the initial value problem \n",
    "$$\n",
    "\\begin{aligned}\n",
    "&y'(t)=y(t), \\quad t\\in (0,2]\\ ,\\\\\n",
    "&y(0)=1\\ ,\n",
    "\\end{aligned}\n",
    "$$\n",
    "and we approximate its solution using the method RK45. For accurate results we consider the tolerance `rtol=1.e-6`."
   ]
  },
  {
   "cell_type": "code",
   "execution_count": 11,
   "metadata": {},
   "outputs": [
    {
     "data": {
      "image/png": "[encoded data removed]",
      "text/plain": [
       "<Figure size 640x480 with 1 Axes>"
      ]
     },
     "metadata": {},
     "output_type": "display_data"
    }
   ],
   "source": [
    "from scipy.integrate import solve_ivp\n",
    "\n",
    "def f(t, y):\n",
    "    return y\n",
    "\n",
    "a = 0.0; b = 2.0\n",
    "tspan = [a, b]\n",
    "y0 = [1.0]\n",
    "\n",
    "sol = solve_ivp(f, tspan, y0, 'RK45', rtol=1.e-6)\n",
    "\n",
    "# Plot the results\n",
    "fig = plt.figure()\n",
    "axes = fig.add_subplot(1, 1, 1)\n",
    "axes.plot(sol.t, sol.y[0], '-o', label=\"RK45\")\n",
    "axes.plot(sol.t, np.exp(sol.t), '-d', label=\"Exact solution\")\n",
    "axes.set_xlabel(\"t\")\n",
    "axes.set_ylabel(\"y\")\n",
    "axes.legend(loc=2)\n",
    "plt.show()\n"
   ]
  }
 ],
 "metadata": {
  "kernelspec": {
   "display_name": "Python 3 (ipykernel)",
   "language": "python",
   "name": "python3"
  },
  "language_info": {
   "codemirror_mode": {
    "name": "ipython",
    "version": 3
   },
   "file_extension": ".py",
   "mimetype": "text/x-python",
   "name": "python",
   "nbconvert_exporter": "python",
   "pygments_lexer": "ipython3",
   "version": "3.10.9"
  }
 },
 "nbformat": 4,
 "nbformat_minor": 2
}

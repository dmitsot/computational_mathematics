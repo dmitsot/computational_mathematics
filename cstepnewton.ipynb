{
 "cells": [
  {
   "cell_type": "markdown",
   "id": "fca71b5c",
   "metadata": {},
   "source": [
    "# Computational Mathematics\n",
    "## An Introduction to Numerical Analysis and Scientific Computing with Python\n",
    "### By Dimitrios Mitsotakis"
   ]
  },
  {
   "cell_type": "markdown",
   "id": "19fc7a8e",
   "metadata": {},
   "source": [
    "# Chapter 5: Complex Step Newton Method"
   ]
  },
  {
   "cell_type": "code",
   "execution_count": 1,
   "id": "eb4de259",
   "metadata": {},
   "outputs": [],
   "source": [
    "import numpy as np\n",
    "import numpy.linalg as npl"
   ]
  },
  {
   "cell_type": "markdown",
   "id": "f73037e3",
   "metadata": {},
   "source": [
    "Here we implement a variant of complex step Newton method. The first part implements the algorithm for scalar equations, as it is described in the book \"Computational Mathematics\" by D. Mitsotakis. The second part has a variant of this method for systems of nonlinear equations equations.\n",
    "\n",
    "As unput you need to enter a function `f`, an initial guess `x0`, the number of allowed iterations `maxit` and a tolerance `tol` for detecting convergence. You can also optionally set the small parameter `h`. This can be very small number and by default is `1.e-10`.\n",
    "\n",
    "The function `cnewton` returns a tuple. The first entry if this tuple is the solution. The number of required iterations and an estimateted error follows."
   ]
  },
  {
   "cell_type": "code",
   "execution_count": 2,
   "id": "e2850060",
   "metadata": {},
   "outputs": [],
   "source": [
    "def cnewton(f,x0,maxit,tol,h=1.e-10):\n",
    "\n",
    "    # This is an implementaion of the complex step Newton method\n",
    "    # as it is described in the book \"Computational Mathematics\"\n",
    "    # by D. Mitsotakis\n",
    "    \n",
    "    error = 1.0\n",
    "    iters = 0\n",
    "    \n",
    "    if type(x0)==float or type(x0)==int:\n",
    "        x = float(x0)\n",
    "        while (iters<=maxit and error >= tol):\n",
    "            deriv=f(x+1j*h)\n",
    "            x = x - h*f(x)/deriv.imag\n",
    "            error = np.abs(x-x0)\n",
    "            x0 = x\n",
    "            iters += 1\n",
    "    else:\n",
    "\n",
    "        x0 = np.array(list(x0))\n",
    "        n = len(x0)\n",
    "        x = x0.copy() \n",
    "        J = np.zeros((n,n))\n",
    "        F = f(x)\n",
    "        if (len(F)!=n):\n",
    "            raise (InterruptExecution('f must be agree in dimension with x0'))\n",
    "        while (iters<=maxit and error >= tol):\n",
    "            for j in range(n):\n",
    "                xx = x.copy()+1j*0.0\n",
    "                xx[j]=x[j]+1j*h\n",
    "                F = f(xx).imag\n",
    "                for i in range(n):\n",
    "                    J[i,j]=F[i]\n",
    "            b1 = f(x)\n",
    "            b = npl.solve(J,b1)\n",
    "            x = x - h*b\n",
    "            xx2 = x-x0\n",
    "            error = npl.norm(xx2,np.inf)\n",
    "            x0 = x.copy()\n",
    "            iters+=1\n",
    "\n",
    "    return x,iters,error"
   ]
  },
  {
   "cell_type": "markdown",
   "id": "c5851131",
   "metadata": {},
   "source": [
    "We test our code for the system:\n",
    "\n",
    "$$\n",
    "\\begin{aligned}\n",
    "&x_1+0.25x_2^2=1.25\\\\\n",
    "&0.25x_1^2+x_2=1.25\n",
    "\\end{aligned}\n",
    "$$\n",
    "\n",
    "which has exact solution $x^\\ast=(1,1)$."
   ]
  },
  {
   "cell_type": "code",
   "execution_count": 3,
   "id": "d8fdd746",
   "metadata": {},
   "outputs": [],
   "source": [
    "def f(x):\n",
    "    y = np.zeros_like(x)\n",
    "    y[0]=x[0]+0.25*x[1]**2-1.25\n",
    "    y[1]=0.25*x[0]**2+x[1]-1.25\n",
    "    return y"
   ]
  },
  {
   "cell_type": "code",
   "execution_count": 4,
   "id": "6d6077fc",
   "metadata": {},
   "outputs": [
    {
     "name": "stdout",
     "output_type": "stream",
     "text": [
      "Required iterations =  4\n",
      "Solution =  [1. 1.]\n",
      "Error =  [-2.22044605e-16 -2.22044605e-16]\n"
     ]
    }
   ],
   "source": [
    "x0 = [0.8,0.8]\n",
    "\n",
    "xx=cnewton(f,x0,maxit=100,tol=1.e-10,h=1.e-9)\n",
    "\n",
    "print('Required iterations = ', xx[1])\n",
    "print('Solution = ', xx[0])\n",
    "print('Error = ', f(xx[0]))"
   ]
  }
 ],
 "metadata": {
  "kernelspec": {
   "display_name": "Python 3 (ipykernel)",
   "language": "python",
   "name": "python3"
  },
  "language_info": {
   "codemirror_mode": {
    "name": "ipython",
    "version": 3
   },
   "file_extension": ".py",
   "mimetype": "text/x-python",
   "name": "python",
   "nbconvert_exporter": "python",
   "pygments_lexer": "ipython3",
   "version": "3.10.9"
  }
 },
 "nbformat": 4,
 "nbformat_minor": 5
}

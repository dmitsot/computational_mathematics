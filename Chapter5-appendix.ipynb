{
 "cells": [
  {
   "cell_type": "markdown",
   "id": "fca71b5c",
   "metadata": {},
   "source": [
    "# Computational Mathematics\n",
    "## An Introduction to Numerical Analysis and Scientific Computing with Python\n",
    "### By Dimitrios Mitsotakis"
   ]
  },
  {
   "cell_type": "markdown",
   "id": "19fc7a8e",
   "metadata": {},
   "source": [
    "# Chapter 5: Appendix\n",
    "\n",
    "## Complex Step Newton Method"
   ]
  },
  {
   "cell_type": "code",
   "execution_count": 1,
   "id": "eb4de259",
   "metadata": {},
   "outputs": [],
   "source": [
    "import numpy as np\n",
    "import numpy.linalg as npl"
   ]
  },
  {
   "cell_type": "markdown",
   "id": "f73037e3",
   "metadata": {},
   "source": [
    "Here we implement a variant of complex step Newton method. The first part implements the algorithm for scalar equations, as it is described in the book \"Computational Mathematics\" by D. Mitsotakis. The second part has a variant of this method for systems of nonlinear equations equations.\n",
    "\n",
    "As unput you need to enter a function `f`, an initial guess `x0`, the number of allowed iterations `maxit` and a tolerance `tol` for detecting convergence. You can also optionally set the small parameter `h`. This can be very small number and by default is `1.e-10`.\n",
    "\n",
    "The function `cnewton` returns a tuple. The first entry if this tuple is the solution. The number of required iterations and an estimateted error follows."
   ]
  },
  {
   "cell_type": "code",
   "execution_count": 2,
   "id": "e2850060",
   "metadata": {},
   "outputs": [],
   "source": [
    "def cnewton(f,x0,maxit,tol,h=1.e-10):\n",
    "\n",
    "    # This is an implementaion of the complex step Newton method\n",
    "    # as it is described in the book \"Computational Mathematics\"\n",
    "    # by D. Mitsotakis\n",
    "    \n",
    "    error = 1.0\n",
    "    iters = 0\n",
    "    \n",
    "    if type(x0)==float or type(x0)==int:\n",
    "        x = float(x0)\n",
    "        while (iters<=maxit and error >= tol):\n",
    "            deriv=f(x+1j*h)\n",
    "            x = x - h*f(x)/deriv.imag\n",
    "            error = np.abs(x-x0)\n",
    "            x0 = x\n",
    "            iters += 1\n",
    "    else:\n",
    "\n",
    "        x0 = np.array(list(x0))\n",
    "        n = len(x0)\n",
    "        x = x0.copy() \n",
    "        J = np.zeros((n,n))\n",
    "        F = f(x)\n",
    "        if (len(F)!=n):\n",
    "            raise (InterruptExecution('f must be agree in dimension with x0'))\n",
    "        while (iters<=maxit and error >= tol):\n",
    "            for j in range(n):\n",
    "                xx = x.copy()+1j*0.0\n",
    "                xx[j]=x[j]+1j*h\n",
    "                F = f(xx).imag\n",
    "                for i in range(n):\n",
    "                    J[i,j]=F[i]\n",
    "            b1 = f(x)\n",
    "            b = npl.solve(J,b1)\n",
    "            x = x - h*b\n",
    "            xx2 = x-x0\n",
    "            error = npl.norm(xx2,np.inf)\n",
    "            x0 = x.copy()\n",
    "            iters+=1\n",
    "\n",
    "    return x,iters,error"
   ]
  },
  {
   "cell_type": "markdown",
   "id": "c5851131",
   "metadata": {},
   "source": [
    "We test our code for the system:\n",
    "\n",
    "$$\n",
    "\\begin{aligned}\n",
    "&x_1+0.25x_2^2=1.25\\\\\n",
    "&0.25x_1^2+x_2=1.25\n",
    "\\end{aligned}\n",
    "$$\n",
    "\n",
    "which has exact solution $x^\\ast=(1,1)$."
   ]
  },
  {
   "cell_type": "code",
   "execution_count": 3,
   "id": "d8fdd746",
   "metadata": {},
   "outputs": [],
   "source": [
    "def f(x):\n",
    "    y = np.zeros_like(x)\n",
    "    y[0]=x[0]+0.25*x[1]**2-1.25\n",
    "    y[1]=0.25*x[0]**2+x[1]-1.25\n",
    "    return y"
   ]
  },
  {
   "cell_type": "code",
   "execution_count": 4,
   "id": "6d6077fc",
   "metadata": {},
   "outputs": [
    {
     "name": "stdout",
     "output_type": "stream",
     "text": [
      "Required iterations =  4\n",
      "Solution =  [1. 1.]\n",
      "Error =  [-2.22044605e-16 -2.22044605e-16]\n"
     ]
    }
   ],
   "source": [
    "x0 = [0.8,0.8]\n",
    "\n",
    "xx=cnewton(f,x0,maxit=100,tol=1.e-10,h=1.e-9)\n",
    "\n",
    "print('Required iterations = ', xx[1])\n",
    "print('Solution = ', xx[0])\n",
    "print('Error = ', f(xx[0]))"
   ]
  },
  {
   "cell_type": "markdown",
   "id": "b6d2df5f",
   "metadata": {},
   "source": [
    "## Application in Astrophysics"
   ]
  },
  {
   "cell_type": "markdown",
   "id": "7ebca84c",
   "metadata": {},
   "source": [
    "If $\\psi$ is the mean anomaly of the orbit of a plant, then $\\theta$, the eccentric anomaly, can be computed by solving the fixed point equation\n",
    "$$\\theta=\\psi+e\\sin \\theta$$\n",
    "where $e$ is the eccentricity of the elliptical orbit.\n",
    "\n",
    "This equation can be solved seamlesly using the funtion `fixed_point` of `scipy.optimize`."
   ]
  },
  {
   "cell_type": "code",
   "execution_count": 5,
   "id": "db631890",
   "metadata": {},
   "outputs": [
    {
     "name": "stdout",
     "output_type": "stream",
     "text": [
      "eccentric anomaly= 0.5235992755987319\n"
     ]
    }
   ],
   "source": [
    "import numpy as np\n",
    "import scipy.optimize as spo\n",
    "def g(theta):\n",
    "    e = 1.e-6\n",
    "    psi = np.pi/6.0\n",
    "    return psi+e*np.sin(theta)\n",
    "theta0 = np.pi/6.0\n",
    "theta = spo.fixed_point(g, theta0)\n",
    "print('eccentric anomaly=', theta)"
   ]
  },
  {
   "cell_type": "markdown",
   "id": "6a88dc43",
   "metadata": {},
   "source": [
    "Knowing the eccentric anomaly can lead to the estimation of the heliocentric distance $r=a(1-e\\cos\\theta)$ where $a$ is the semi-major axis."
   ]
  },
  {
   "cell_type": "markdown",
   "id": "b3c3192e",
   "metadata": {},
   "source": [
    "We repeat the calculation of the previous example using the complex step Newton method as follows"
   ]
  },
  {
   "cell_type": "code",
   "execution_count": 6,
   "id": "df294633",
   "metadata": {},
   "outputs": [],
   "source": [
    "def f(theta):\n",
    "    return theta-g(theta)"
   ]
  },
  {
   "cell_type": "code",
   "execution_count": 7,
   "id": "db335baf",
   "metadata": {},
   "outputs": [
    {
     "name": "stdout",
     "output_type": "stream",
     "text": [
      "Required iterations =  3\n",
      "eccentric anomaly = 0.5235992755987319\n",
      "Error =  0.0\n"
     ]
    }
   ],
   "source": [
    "x0 = 1.0\n",
    "maxit = 100\n",
    "tol = 1.e-9\n",
    "h = 1.e-9\n",
    "\n",
    "theta = cnewton(f,x0,maxit,tol,h=1.e-10)\n",
    "\n",
    "print('Required iterations = ', theta[1])\n",
    "print('eccentric anomaly =', theta[0])\n",
    "print('Error = ', f(theta[0]))"
   ]
  }
 ],
 "metadata": {
  "kernelspec": {
   "display_name": "Python 3 (ipykernel)",
   "language": "python",
   "name": "python3"
  },
  "language_info": {
   "codemirror_mode": {
    "name": "ipython",
    "version": 3
   },
   "file_extension": ".py",
   "mimetype": "text/x-python",
   "name": "python",
   "nbconvert_exporter": "python",
   "pygments_lexer": "ipython3",
   "version": "3.10.9"
  }
 },
 "nbformat": 4,
 "nbformat_minor": 5
}

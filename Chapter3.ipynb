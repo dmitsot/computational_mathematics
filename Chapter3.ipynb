{
 "cells": [
  {
   "cell_type": "markdown",
   "metadata": {},
   "source": [
    "# Computational Mathematics\n",
    "## An Introduction to Numerical Analysis and Scientific Computing with Python\n",
    "### By Dimitrios Mitsotakis"
   ]
  },
  {
   "cell_type": "markdown",
   "metadata": {},
   "source": [
    "# Chapter 3: Scientific Computating"
   ]
  },
  {
   "cell_type": "markdown",
   "metadata": {},
   "source": [
    "## Computer Arithmetic and Sources of Error\n",
    "\n",
    "Unfortunately computers don't know every single real number. The reason is simple. The real numbers are infinite while the computer memory is finite. This is one of the main reasons of why we can never find the exact solution to a problem by using a computer. We will always find an approximation of it, which sometimes will be good but sometimes it can be bad. "
   ]
  },
  {
   "cell_type": "markdown",
   "metadata": {},
   "source": [
    "As an example of the finite precision arithmetic we can check whether the result of the operation $1.1+0.1$ for a computer is equal to $1.2$ or not"
   ]
  },
  {
   "cell_type": "code",
   "execution_count": 1,
   "metadata": {},
   "outputs": [
    {
     "data": {
      "text/plain": [
       "False"
      ]
     },
     "execution_count": 1,
     "metadata": {},
     "output_type": "execute_result"
    }
   ],
   "source": [
    "1.1 + 0.1 == 1.2"
   ]
  },
  {
   "cell_type": "markdown",
   "metadata": {},
   "source": [
    "Unfortunately it is not. So what we always need to have in mind is that when we use floating point arithmetic we almost always have an error in our computations. This is called floating point error."
   ]
  },
  {
   "cell_type": "markdown",
   "metadata": {},
   "source": [
    "Specifically what we get in this case is:"
   ]
  },
  {
   "cell_type": "code",
   "execution_count": 2,
   "metadata": {},
   "outputs": [
    {
     "data": {
      "text/plain": [
       "1.2000000000000002"
      ]
     },
     "execution_count": 2,
     "metadata": {},
     "output_type": "execute_result"
    }
   ],
   "source": [
    "1.1 + 0.1"
   ]
  },
  {
   "cell_type": "markdown",
   "metadata": {},
   "source": [
    "We continue with another example of floating point error know as catastrophic cancelation:"
   ]
  },
  {
   "cell_type": "markdown",
   "metadata": {},
   "source": [
    "### Catastrophic cancelation\n",
    "\n",
    "Consider the function\n",
    "$$f(x)=\\frac{1-\\cos(x)}{x^2}.$$\n",
    "This function is not defined at $x=0$ but using L'Hospital's\n",
    "\n",
    "$$\n",
    "    \\lim_{x \\rightarrow 0} \\frac{1 - \\cos (x)}{x^2} = \\lim_{x \\rightarrow 0} \\frac{\\sin (x)}{2 x} = \\lim_{x \\rightarrow 0} \\frac{\\cos (x)}{2} = \\frac{1}{2}.\n",
    "$$\n",
    "\n",
    "Now let's use computers to estimate the limit.\n",
    "\n",
    "First we plot the function in the interval $[-5,5]$"
   ]
  },
  {
   "cell_type": "code",
   "execution_count": 3,
   "metadata": {},
   "outputs": [],
   "source": [
    "import numpy as np"
   ]
  },
  {
   "cell_type": "code",
   "execution_count": 4,
   "metadata": {},
   "outputs": [
    {
     "name": "stdout",
     "output_type": "stream",
     "text": [
      "f( 1e-05 ) = 0.5000000413701854\n",
      "f( 1e-06 ) = 0.5000444502911705\n",
      "f( 1e-07 ) = 0.4996003610813205\n",
      "f( 1e-08 ) = 0.0\n",
      "f( 1e-09 ) = 0.0\n",
      "f( 1e-10 ) = 0.0\n",
      "f( 1e-11 ) = 0.0\n"
     ]
    }
   ],
   "source": [
    "f = lambda x:  (1 - np.cos(x))/x**2\n",
    "x = np.linspace(-5, 5, 100)\n",
    "y = f(x)\n",
    "xi = (1.e-5, 1.e-6, 1.e-7, 1.e-8, 1.e-9, 1.e-10, 1.e-11)\n",
    "for x in xi:\n",
    "    print('f(',x,')','=',f(x))   "
   ]
  },
  {
   "cell_type": "markdown",
   "metadata": {},
   "source": [
    "These results misleadingly indicate that the function $f$ goes to $0$ as $x\\rightarrow 0$. "
   ]
  },
  {
   "cell_type": "markdown",
   "metadata": {
    "collapsed": true
   },
   "source": [
    "You cannot get an accurate computation due to catastrofic cancelation (or loss of significance). To understand the problem first keep in mind that computers can only store a finite number of decimal digits. Assume that our machine keeps only 10 floating-point digits (decimal digits) and consider the number:\n",
    "$$a = 0.12345678901234567890.$$\n",
    "A floating-point representation of this number on our machine would be:\n",
    "$$b = 0.1234567890$$\n",
    "\n",
    "Now perform the calculation:\n",
    "$$a - b = 0.00000000001234567890$$\n",
    "\n",
    "However, on the 10-digit floating-point machine, the calculation yields\n",
    "$$a - b = 0.0000000000$$\n",
    "\n",
    "This last number can be considered from the machine as 0. So even if we divide this number by something very small it will return zero again. "
   ]
  },
  {
   "cell_type": "markdown",
   "metadata": {},
   "source": [
    "### The machine zero (or machine epsilon)\n",
    "\n",
    "It is true that number 0 is not the only number in a computer that if we add 1 we will get 1\n",
    "$$0 + 1 = 1$$\n",
    "There are other numbers that exist due to the finite precision arithmetic. To see this let's do an experiment:\n",
    "\n",
    "- Take $x = 1$ and add it to $1$.\n",
    "- Replace $x$ by $x/2$ and add it to $1$ \n",
    "- If the result in not $1$ continue dividing by $2$ until the sum $x+1=1$."
   ]
  },
  {
   "cell_type": "code",
   "execution_count": 5,
   "metadata": {},
   "outputs": [
    {
     "name": "stdout",
     "output_type": "stream",
     "text": [
      "EPS =  2.220446049250313e-16\n",
      "x =  1.1102230246251565e-16\n"
     ]
    }
   ],
   "source": [
    "x = 1.0\n",
    "while (1.0 + x != 1.0):\n",
    "    x = x / 2.0\n",
    "EPS = 2.0*x\n",
    "print('EPS = ', EPS)\n",
    "print('x = ', x)"
   ]
  },
  {
   "cell_type": "markdown",
   "metadata": {},
   "source": [
    "So we computed the number `1.1102230246251565e-16` that when we add it to `1` we get `1`. This number behaves like zero and we call it `machine epsilon` "
   ]
  },
  {
   "cell_type": "code",
   "execution_count": 6,
   "metadata": {},
   "outputs": [
    {
     "data": {
      "text/plain": [
       "1.0"
      ]
     },
     "execution_count": 6,
     "metadata": {},
     "output_type": "execute_result"
    }
   ],
   "source": [
    "x+1"
   ]
  },
  {
   "cell_type": "code",
   "execution_count": 7,
   "metadata": {},
   "outputs": [
    {
     "data": {
      "text/plain": [
       "1.0000000000000002"
      ]
     },
     "execution_count": 7,
     "metadata": {},
     "output_type": "execute_result"
    }
   ],
   "source": [
    "(2*x)+1"
   ]
  },
  {
   "cell_type": "markdown",
   "metadata": {},
   "source": [
    "Never forget that all numbers that are smaller than `EPS` are considered to be equal to `0` in practical (scaled) problems."
   ]
  },
  {
   "cell_type": "markdown",
   "metadata": {},
   "source": [
    "### Floats in Python"
   ]
  },
  {
   "cell_type": "markdown",
   "metadata": {},
   "source": [
    "The module `numpy.finfo` contains all the extreme values for floating point numbers (double-precision numbers). For example:"
   ]
  },
  {
   "cell_type": "code",
   "execution_count": 8,
   "metadata": {},
   "outputs": [
    {
     "name": "stdout",
     "output_type": "stream",
     "text": [
      "Machine parameters for float64\n",
      "---------------------------------------------------------------\n",
      "precision =  15   resolution = 1.0000000000000001e-15\n",
      "machep =    -52   eps =        2.2204460492503131e-16\n",
      "negep =     -53   epsneg =     1.1102230246251565e-16\n",
      "minexp =  -1022   tiny =       2.2250738585072014e-308\n",
      "maxexp =   1024   max =        1.7976931348623157e+308\n",
      "nexp =       11   min =        -max\n",
      "smallest_normal = 2.2250738585072014e-308   smallest_subnormal = 4.9406564584124654e-324\n",
      "---------------------------------------------------------------\n",
      "\n"
     ]
    }
   ],
   "source": [
    "from numpy import finfo\n",
    "\n",
    "print(finfo(float))"
   ]
  },
  {
   "cell_type": "markdown",
   "metadata": {},
   "source": [
    "- From this is clear than there is no `0.0` stored in our machine. The smallest float number is `tiny = 2.2250738585072014e-308`. \n",
    "- When we see in our display the number `0.0` or `-0.0` this can be any number between the `-tiny` and the `tiny` numbers. This phenomenon is called *underflow*\n",
    "- If we compute any number greater than the `max =1.7976931348623157e+308` or less than `min = -1.7976931348623157e+308` we say that we get *overflow* and modern computers represent these numbers by `inf` or `-inf` respectively. Or sometimes we get a `NaN` which means Not a Number."
   ]
  },
  {
   "cell_type": "markdown",
   "metadata": {},
   "source": [
    "### Back to our unstable algorithm (a workaround)\n",
    "\n",
    "In our first example the problem was cause by the difference $1-cos(x)$ in the formula of the function $f(x)$ since $\\lim_{x\\to 0}\\cos(x)=1$. Instead we can improve the formula of the function by using a little bit of trigonometry:\n",
    "$$\n",
    "\\begin{aligned}\n",
    "f(x)&=\\frac{1-\\cos(x)}{x^2}\\\\\n",
    "&=\\frac{(1-\\cos(x))(1+\\cos(x))}{x^2(1+\\cos(x))}\\\\\n",
    "&=\\frac{1-\\cos^2(x)}{x^2(1+\\cos(x))}\\\\\n",
    "&=\\frac{\\sin^2(x)}{x^2(1+\\cos(x))}\\\\\n",
    "\\end{aligned}\n",
    "$$"
   ]
  },
  {
   "cell_type": "code",
   "execution_count": 9,
   "metadata": {},
   "outputs": [
    {
     "name": "stdout",
     "output_type": "stream",
     "text": [
      "f( 1e-05 ) = 0.4999999999958333\n",
      "f( 1e-06 ) = 0.4999999999999583\n",
      "f( 1e-07 ) = 0.4999999999999995\n",
      "f( 1e-08 ) = 0.5\n",
      "f( 1e-09 ) = 0.5\n",
      "f( 1e-10 ) = 0.5\n",
      "f( 1e-11 ) = 0.5\n"
     ]
    }
   ],
   "source": [
    "f = lambda x:  np.sin(x)**2/(x**2*(1+np.cos(x)))\n",
    "x = np.linspace(-5, 5, 100)\n",
    "y = f(x)\n",
    "xi = (1.e-5, 1.e-6, 1.e-7, 1.e-8, 1.e-9, 1.e-10,1.e-11)\n",
    "for x in xi:\n",
    "    print('f(',x,')','=',f(x)) "
   ]
  },
  {
   "cell_type": "markdown",
   "metadata": {},
   "source": [
    "Please compare with the results obtained in the beginning of this lesson!"
   ]
  },
  {
   "cell_type": "markdown",
   "metadata": {},
   "source": [
    "### Approximations of $\\pi$"
   ]
  },
  {
   "cell_type": "markdown",
   "metadata": {},
   "source": [
    "Here is an unstable algorithm for the approximation of $\\pi$\n",
    "\n",
    "- Set $y=2.0$\n",
    "- For $n=1,2,\\dots, 30$ \n",
    "    - Compute\n",
    "$$y=2^{n+1}\\sqrt{\\frac{1}{2}\\left(1-\\sqrt{1-(2^{-n}y)^2}\\right)}$$\n",
    "- EndFor\n",
    "- Return $y$ as an approximation of $\\pi$"
   ]
  },
  {
   "cell_type": "code",
   "execution_count": 10,
   "metadata": {},
   "outputs": [
    {
     "name": "stdout",
     "output_type": "stream",
     "text": [
      "1 2.8284271247461903\n",
      "2 3.0614674589207187\n",
      "3 3.121445152258053\n",
      "4 3.1365484905459406\n",
      "5 3.140331156954739\n",
      "6 3.141277250932757\n",
      "7 3.1415138011441455\n",
      "8 3.1415729403678827\n",
      "9 3.141587725279961\n",
      "10 3.141591421504635\n",
      "11 3.141592345611077\n",
      "12 3.1415925765450043\n",
      "13 3.1415926334632482\n",
      "14 3.141592654807589\n",
      "15 3.1415926453212153\n",
      "16 3.1415926073757197\n",
      "17 3.1415929109396727\n",
      "18 3.141594125195191\n",
      "19 3.1415965537048196\n",
      "20 3.1415965537048196\n",
      "21 3.1416742650217575\n",
      "22 3.1418296818892015\n",
      "23 3.142451272494134\n",
      "24 3.142451272494134\n",
      "25 3.1622776601683795\n",
      "26 3.1622776601683795\n",
      "27 3.4641016151377544\n",
      "28 4.0\n",
      "29 0.0\n",
      "30 0.0\n"
     ]
    }
   ],
   "source": [
    "yn = 2.0\n",
    "for n in range(1,31):\n",
    "    yn=2.0**(n+1) * np.sqrt(0.5*(1.0-np.sqrt(1.0-(2.0**(-n)*yn)**2)))\n",
    "    print(n, yn) "
   ]
  },
  {
   "cell_type": "markdown",
   "metadata": {},
   "source": [
    "The sequence seems to approximate $\\pi$ up to $y_{24}$. Then the computation becomes unstable and returns $0$ due to loss of significance. "
   ]
  },
  {
   "cell_type": "markdown",
   "metadata": {},
   "source": [
    "To avoid the subtraction of almost equal numbers $a,b\\geq 1$ we can use the identity \n",
    "$(a-b)(a+b)=a^2-b^2$ with \n",
    "$a=1$ and $b=\\sqrt{1-(2^{-n}y_n)^2}$ to obtain\n",
    "$$1-\\sqrt{1-(2^{-n}y_n)^2}=\\frac{2^{-2n}y_n^2}{1+\\sqrt{1-(2^{-n}y_n)^2}}\\ .$$\n",
    "This transforms the recursive sequence to \n",
    "$$y_{n+1}=\\sqrt{\\frac{2}{1+\\sqrt{1-(2^{-n}y_n)^2}}} y_n\\ ,$$\n",
    "where again $y_1=2$. Implementing the new recursive iteration we obtain a stable algorithm."
   ]
  },
  {
   "cell_type": "code",
   "execution_count": 11,
   "metadata": {},
   "outputs": [
    {
     "name": "stdout",
     "output_type": "stream",
     "text": [
      "1 2.8284271247461903\n",
      "2 3.0614674589207187\n",
      "3 3.121445152258053\n",
      "4 3.1365484905459398\n",
      "5 3.1403311569547534\n",
      "6 3.1412772509327733\n",
      "7 3.1415138011443013\n",
      "8 3.1415729403670913\n",
      "9 3.1415877252771596\n",
      "10 3.1415914215111997\n",
      "11 3.1415923455701176\n",
      "12 3.1415925765848725\n",
      "13 3.141592634338563\n",
      "14 3.141592648776985\n",
      "15 3.1415926523865907\n",
      "16 3.1415926532889924\n",
      "17 3.141592653514593\n",
      "18 3.141592653570993\n",
      "19 3.1415926535850933\n",
      "20 3.141592653588618\n",
      "21 3.141592653589499\n",
      "22 3.1415926535897194\n",
      "23 3.1415926535897745\n",
      "24 3.1415926535897882\n",
      "25 3.141592653589792\n",
      "26 3.1415926535897927\n",
      "27 3.1415926535897927\n",
      "28 3.1415926535897927\n",
      "29 3.1415926535897927\n",
      "30 3.1415926535897927\n"
     ]
    }
   ],
   "source": [
    "yn = 2.0\n",
    "for n in range(1,31):\n",
    "    yn=np.sqrt(2.0/(1.0+np.sqrt(1.0-(2.0**(-n)*yn)**2)))*yn\n",
    "    print(n, yn) "
   ]
  }
 ],
 "metadata": {
  "kernelspec": {
   "display_name": "Python 3 (ipykernel)",
   "language": "python",
   "name": "python3"
  },
  "language_info": {
   "codemirror_mode": {
    "name": "ipython",
    "version": 3
   },
   "file_extension": ".py",
   "mimetype": "text/x-python",
   "name": "python",
   "nbconvert_exporter": "python",
   "pygments_lexer": "ipython3",
   "version": "3.10.9"
  }
 },
 "nbformat": 4,
 "nbformat_minor": 2
}

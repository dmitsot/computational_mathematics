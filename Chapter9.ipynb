{
 "cells": [
  {
   "cell_type": "markdown",
   "metadata": {},
   "source": [
    "# Computational Mathematics\n",
    "## An Introduction to Numerical Analysis and Scientific Computing with Python\n",
    "### By Dimitrios Mitsotakis"
   ]
  },
  {
   "cell_type": "markdown",
   "metadata": {},
   "source": [
    "# Chapter 9: Numerical Linear Algebra"
   ]
  },
  {
   "cell_type": "markdown",
   "metadata": {},
   "source": [
    "## Numerical Solution of Linear Systems\n",
    "\n",
    "A direct method usually is a method that computes the exact solution (not approximation) when we use infinite precision arrithmetic. Due to finite precision arithmetic though when we use computers the solution will be an approximation."
   ]
  },
  {
   "cell_type": "markdown",
   "metadata": {},
   "source": [
    "### Algorithm for the naive Gaussian elimination\n",
    "\n",
    "The procedure of the *forward elimination* can be described as follows:\n",
    "\n",
    "- Given the arrays ${\\bf A}$ and ${\\bf b}$ the solution ${\\bf x}$ replaces ${\\bf b}$\n",
    "- For $k=1:n-1$\n",
    "    - For $i=k+1:n$\n",
    "        - ${\\bf M}(i,k)={\\bf A}(i,k)/{\\bf A}(k,k)$\n",
    "        - ${\\bf A}(i,k:n)={\\bf A}(i,k:n)-{\\bf M}(i,k)\\cdot {\\bf A}(k,k:n)$\n",
    "        - ${\\bf b}(i)={\\bf b}(i)-{\\bf M}(i,k)\\cdot {\\bf b}(k)$\n",
    "    - EndFor\n",
    "- EndFor\n",
    "\n",
    "To solve the linear system ${\\bf A}{\\bf x}={\\bf b}$ then we proceed with the algorithm of back-substitution\n",
    "\n",
    "- Given an upper triangular array ${\\bf A}$, the right-hand side ${\\bf b}$ is replaced by the solution ${\\bf x}$\n",
    "- ${\\bf b}(n)={\\bf b}(n)/{\\bf A}(n,n)$\n",
    "- For $k=n-1:1:-1$\n",
    "    - ${\\bf b}(k)=({\\bf b}(k)-{\\bf A}(k,k+1:n)\\cdot {\\bf b}(k+1:n))~/~{\\bf A}(k,k)$\n",
    "- EndFor"
   ]
  },
  {
   "cell_type": "code",
   "execution_count": 1,
   "metadata": {},
   "outputs": [],
   "source": [
    "import numpy as np"
   ]
  },
  {
   "cell_type": "code",
   "execution_count": 2,
   "metadata": {},
   "outputs": [],
   "source": [
    "def Gauss_elimination(A,b):\n",
    "    n = len(b)\n",
    "    # Gaussian elimination\n",
    "    for k in range(n-1):\n",
    "        for i in range(k+1,n):\n",
    "            if A[k,k]!=0.0:\n",
    "                mik=A[i,k]/A[k,k]\n",
    "                A[i,k+1:n] = A[i,k+1:n] - mik * A[k,k+1:n]\n",
    "                b[i] = b[i] - mik * b[k]    \n",
    "    # backward substitution \n",
    "    for k in range(n-1,-1,-1):\n",
    "        b[k] = (b[k]-np.dot(A[k,k+1:n],b[k+1:n]))/A[k,k]\n",
    "    return b"
   ]
  },
  {
   "cell_type": "code",
   "execution_count": 3,
   "metadata": {},
   "outputs": [
    {
     "name": "stdout",
     "output_type": "stream",
     "text": [
      "[1. 1. 1.]\n"
     ]
    }
   ],
   "source": [
    "A = np.array([[ 1., 1., 0.], \n",
    "              [ 2., 1.,-1.], \n",
    "              [ 3.,-1.,-1.]])\n",
    "b = np.array([ 2., 2., 1.])\n",
    "x = Gauss_elimination( A.copy(), b.copy() )\n",
    "print(x)"
   ]
  },
  {
   "cell_type": "markdown",
   "metadata": {},
   "source": [
    "## $LU$ Factorization\n",
    "\n",
    "The Gaussian elimination is expressed as\n",
    "$${\\bf U}={\\bf M}_{n-1}{\\bf M}_{n-2}\\cdots {\\bf M}_1 {\\bf A}\\ ,$$\n",
    "where ${\\bf M}_i$ is lower triangular matrix with ones in its main diagonal for all $i=1,\\dots, n-1$. All these matrices ${\\bf M}_i$ are invertible since all their diagonal entries of ${\\bf M}_i$ are nonzero, and thus $\\det({\\bf M}_i)=1$. Therefore, the matrix ${\\bf A}$ can be written as\n",
    "$${\\bf A}={\\bf M}_1^{-1}{\\bf M}_2^{-1}\\cdots {\\bf M}_{n-1}^{-1} {\\bf U}={\\bf L}{\\bf U}\\ ,$$"
   ]
  },
  {
   "cell_type": "markdown",
   "metadata": {},
   "source": [
    "The algorithm for obtaining the matrices ${\\bf L}$ and ${\\bf U}$ is a modification of the Gaussian elimination algorithm:\n",
    "\n",
    "- For $k=1:n-1$\n",
    "    - For $i=k+1:n$\n",
    "        - If ${\\bf A}(k,k)\\not=0$\n",
    "            - $m_{ik}={\\bf A}(i,k)/{\\bf A}(k,k)$\n",
    "            - ${\\bf A}(i,k:n)={\\bf A}(i,k:n)-m_{ik}\\cdot {\\bf A}(k,k:n)$\n",
    "            - ${\\bf A}(i,k)=m_{ik}$\n",
    "        - EndIf\n",
    "    - EndFor\n",
    "- EndFor\n",
    "\n",
    "\n",
    "The implementation of this algorithm can be the following:"
   ]
  },
  {
   "cell_type": "code",
   "execution_count": 4,
   "metadata": {},
   "outputs": [],
   "source": [
    "def LU(A):\n",
    "    # LU factorization of matrix A\n",
    "    n = len(A)\n",
    "    for k in range(n-1):\n",
    "        for i in range(k+1,n):\n",
    "            if A[k,k] != 0.0:\n",
    "                mik = A[i,k]/A[k,k]\n",
    "                A[i,k+1:n] = A[i,k+1:n] - mik*A[k,k+1:n]\n",
    "                A[i,k] = mik\n",
    "    return A"
   ]
  },
  {
   "cell_type": "code",
   "execution_count": 5,
   "metadata": {},
   "outputs": [
    {
     "name": "stdout",
     "output_type": "stream",
     "text": [
      "L = [[ 1.  0.  0.]\n",
      " [ 2. -1.  0.]\n",
      " [ 3.  4.  3.]]\n",
      "U = [[ 1.  1.  0.]\n",
      " [ 0. -1. -1.]\n",
      " [ 0.  0.  3.]]\n",
      "[[ 1.  1.  0.]\n",
      " [ 2.  3.  1.]\n",
      " [ 3. -1.  5.]]\n"
     ]
    }
   ],
   "source": [
    "A = np.array([[ 1., 1., 0.], \n",
    "              [ 2., 1.,-1.], \n",
    "              [ 3.,-1.,-1.]])\n",
    "\n",
    "B = LU(A)\n",
    "\n",
    "L = np.tril(B)\n",
    "U = np.triu(B)\n",
    "\n",
    "print('L =', L)\n",
    "print('U =', U)\n",
    "print(L@U)"
   ]
  },
  {
   "cell_type": "markdown",
   "metadata": {},
   "source": [
    "#### Solving Linear Systems with $LU$ Factorization"
   ]
  },
  {
   "cell_type": "markdown",
   "metadata": {},
   "source": [
    "In order to solve a system ${\\bf A}{\\bf x}={\\bf b}$ given that ${\\bf A}={\\bf L}{\\bf U}$, we set ${\\bf U}{\\bf x}={\\bf y}$. Then, we first solve the system ${\\bf L}{\\bf y}={\\bf b}$ and then the system ${\\bf U}{\\bf x}={\\bf y}$. The solution of the system ${\\bf U}{\\bf x}={\\bf y}$ is solved with backward substitution.\n",
    "\n",
    "The system ${\\bf L}{\\bf y}={\\bf b}$ can be solved easily using forward substitution. The algorithm of the forward substitution is the following (and is the reverse of the backward substitution):\n",
    "\n",
    "- Given the lower triangular array ${\\bf L}$, the right-hand side ${\\bf b}$ of the system ${\\bf L}{\\bf y}={\\bf b}$ the solution ${\\bf y}$ replaces ${\\bf b}$\n",
    "- ${\\bf b}(1)={\\bf b}(1)/{\\bf L}(1,1)$\n",
    "- For $k=2:n$\n",
    "    - ${\\bf b}(k)=({\\bf b}(k)-{\\bf L}(k,1:k-1)\\cdot {\\bf b}(1:k-1))~/~{\\bf L}(k,k)$\n",
    "- EndFor\n"
   ]
  },
  {
   "cell_type": "code",
   "execution_count": 6,
   "metadata": {},
   "outputs": [],
   "source": [
    "def solveLU(A,b):\n",
    "    # Solution of the linear system LUx=b\n",
    "    # matrix A contains the LU factorization of A\n",
    "    n = len(A)\n",
    "    # Solve the low triangular system Ly=b, note that L_ii = 1.0\n",
    "    for k in range(1,n):\n",
    "        b[k] = b[k] - np.dot(A[k,0:k],b[0:k])\n",
    "    # Solve the upper triangular system Ux=b\n",
    "    b[n-1] = b[n-1]/A[n-1,n-1]    \n",
    "    for k in range(n-2,-1,-1):\n",
    "        b[k] = (b[k] - np.dot(A[k,k+1:n],b[k+1:n]))/A[k,k]\n",
    "    return b"
   ]
  },
  {
   "cell_type": "markdown",
   "metadata": {},
   "source": [
    "In the next piece of code we use the above functions to decompose a matrix $A$ and then solve two systems with different right-hand sides:"
   ]
  },
  {
   "cell_type": "code",
   "execution_count": 7,
   "metadata": {},
   "outputs": [
    {
     "name": "stdout",
     "output_type": "stream",
     "text": [
      "[1. 1. 1.]\n",
      "[2. 2. 2.]\n"
     ]
    }
   ],
   "source": [
    "A = np.array([[ 1., 1., 0.], \n",
    "              [ 2., 1.,-1.], \n",
    "              [ 3.,-1.,-1.]])\n",
    "b1 = np.array([ 2., 2., 1.])\n",
    "b2 = np.array([ 4., 4., 2.])\n",
    "# Perform LU factorization once\n",
    "A = LU(A)\n",
    "# Solve the first system using forward/backward substitution\n",
    "x1 = solveLU(A,b1)\n",
    "print(x1)\n",
    "#Solve the second system using forward/backward substitution\n",
    "x2 = solveLU(A,b2)\n",
    "print(x2)"
   ]
  },
  {
   "cell_type": "markdown",
   "metadata": {},
   "source": [
    "## Pivoting Strategies"
   ]
  },
  {
   "cell_type": "markdown",
   "metadata": {},
   "source": [
    "There are some linear systems where Gaussian elimination can fail in practice due to the the finite precision arithmetic of the computers.\n",
    "\n",
    "For example consider a linear system with one of the matrices\n",
    "$${\\bf A}_1=\\begin{pmatrix}\n",
    "0 & 1 \\\\\n",
    "1 & 1\\\\\n",
    "\\end{pmatrix}\\quad \\text{or} \\quad  {\\bf A}_2=\\begin{pmatrix}\n",
    "10^{-17} & 1 \\\\\n",
    "1 & 1\\\\\n",
    "\\end{pmatrix}\\ .\n",
    "$$\n",
    "\n",
    "In the first case the first multiplier is 0 and thus we cannot perform Gaussian elimination. In the second case, with right-hand side $(1,2)$, although the exact solution is close to $(1,1)$ we compute $(0,1)$ which is totally wrong:"
   ]
  },
  {
   "cell_type": "code",
   "execution_count": 8,
   "metadata": {},
   "outputs": [
    {
     "name": "stdout",
     "output_type": "stream",
     "text": [
      "[0. 1.]\n"
     ]
    }
   ],
   "source": [
    "A = np.array([[ 1.e-17, 1.], \n",
    "              [ 1., 1.]])\n",
    "b = np.array([ 1., 2.])\n",
    "x = Gauss_elimination(A,b)\n",
    "print(x)"
   ]
  },
  {
   "cell_type": "markdown",
   "metadata": {},
   "source": [
    "The solution is to change the order of the rows:"
   ]
  },
  {
   "cell_type": "code",
   "execution_count": 9,
   "metadata": {},
   "outputs": [
    {
     "name": "stdout",
     "output_type": "stream",
     "text": [
      "[1. 1.]\n"
     ]
    }
   ],
   "source": [
    "A = np.array([[ 1., 1.], \n",
    "              [ 1.e-17, 1.]])\n",
    "b = np.array([ 2., 1.])\n",
    "x = Gauss_elimination(A,b)\n",
    "print(x)"
   ]
  },
  {
   "cell_type": "markdown",
   "metadata": {},
   "source": [
    "### Gaussian elimination with partial pivoting\n",
    "\n",
    "he simplest strategy is to select the element in the same column that is below the diagonal and has the largest absolute value: At stage $k$  of the outer loop of the factorization\n",
    "\n",
    "- we determine the smallest $p\\geq k$ such that \n",
    "\n",
    "$$|a_{pk}|=\\max_{k\\leq i \\leq n} |a_{ik}|$$\n",
    "\n",
    "- perform $(E_k) \\leftrightarrow (E_p)$\n",
    "\n",
    "In this case no interchange of columns is used, but interchange of rows. There is a column pivoting strategy where we proceed as in the row pivoting but interchange columns. Column pivoting requires reordering of the unknowns, and does not work well with direct factorization. \n",
    "\n",
    "The row swap can be performed very easy with the following function:"
   ]
  },
  {
   "cell_type": "code",
   "execution_count": 10,
   "metadata": {},
   "outputs": [],
   "source": [
    "def rowSwap(v,i,j):\n",
    "    if len(v.shape) == 1:\n",
    "        v[i],v[j] = v[j],v[i]\n",
    "    else:\n",
    "        v[[i,j],:] = v[[j,i],:]"
   ]
  },
  {
   "cell_type": "markdown",
   "metadata": {},
   "source": [
    "Then the Gaussian elimination takes the following form:"
   ]
  },
  {
   "cell_type": "code",
   "execution_count": 11,
   "metadata": {},
   "outputs": [],
   "source": [
    "def pGauss_elimination(A,b,tol=1.0e-15):\n",
    "    n = len(b)\n",
    "    for k in range(n-1):\n",
    "        # swap rows if necessary\n",
    "        p = np.argmax(np.abs(A[k:n,k])) + k\n",
    "        if np.abs(A[p,k]) < tol: \n",
    "            error.err('singular matrix has been detected')\n",
    "        if p != k:\n",
    "            rowSwap(b,k,p)\n",
    "            rowSwap(A,k,p)\n",
    "        # perform Gauss elimination  \n",
    "        for i in range(k+1,n):\n",
    "            if A[k,k] != 0.0:\n",
    "                mik = A[i,k]/A[k,k]\n",
    "                A[i,k+1:n] = A[i,k+1:n] - mik*A[k,k+1:n]\n",
    "                b[i] = b[i] - mik*b[k]\n",
    "    # check if the matrix is singular            \n",
    "    if np.abs(A[n-1,n-1]) < tol:\n",
    "        error.err('singular matrix has been detected')        \n",
    "    # perform backward substitution\n",
    "    b[n-1] = b[n-1]/A[n-1,n-1]\n",
    "    for k in range(n-2,-1,-1):\n",
    "        b[k] = (b[k] -np.dot(A[k,k+1:n],b[k+1:n]))/A[k,k]\n",
    "    return b"
   ]
  },
  {
   "cell_type": "markdown",
   "metadata": {},
   "source": [
    "And now even the first case with the 0 pivot works well:"
   ]
  },
  {
   "cell_type": "code",
   "execution_count": 12,
   "metadata": {},
   "outputs": [
    {
     "name": "stdout",
     "output_type": "stream",
     "text": [
      "[1. 1.]\n"
     ]
    }
   ],
   "source": [
    "A = np.array([[ 0., 1.], \n",
    "              [ 1., 1.]])\n",
    "b = np.array([ 1., 2.])\n",
    "x = pGauss_elimination(A,b)\n",
    "print(x)"
   ]
  },
  {
   "cell_type": "markdown",
   "metadata": {},
   "source": [
    "### $LU$ decomposition with pivoting\n",
    "\n",
    "First, we define the permutation matrix. A permutation matrix is an identity matrix with its rows or columns interchanged.\n",
    "\n",
    "For example, if we want to interchange rows 1 and 3, then the permutation matrix is:\n",
    "\n",
    "$$\n",
    "P=\n",
    "\\begin{pmatrix}\n",
    "0 & 0 & 1\\\\\n",
    "0 & 1 & 0\\\\\n",
    "1 & 0 &0\n",
    "\\end{pmatrix}\n",
    "$$\n",
    "\n",
    "Then, for any $n\\times n$ matrix $A$ of rank $n$, there is a reordering of rows such that\n",
    "$$PA=LU$$ \n",
    "where $P$ is a permutation matrix that reorder the rows of $A$.\n",
    "\n",
    "We can modify similarly to the Gaussian elimination and obtain the following algorithm of the $LU$ factorization with partial pivoting\n",
    "\n",
    "- Given the array ${\\bf A}$\n",
    "- For $k=1:n-1$\n",
    "    - Find $p$ such that $|{\\bf A}(p,k)|=\\max_{k\\leq p\\leq n} |{\\bf A}(k:n,k)|$\n",
    "    - Swap rows ${\\bf A}(k,:)\\leftrightarrow {\\bf A}(p,:)$\n",
    "    - Swap rows $perm(k)\\leftrightarrow perm(p)$\n",
    "    - For $i=k+1:n$\n",
    "        - If ${\\bf A}(i,k)\\not=0$\n",
    "            - $m_{ik}={\\bf A}(i,k)/{\\bf A}(k,k)$\n",
    "            - ${\\bf A}(i,k+1:n)={\\bf A}(i,k+1,n)-m_{ik}\\cdot {\\bf A}(k,k+1:n)$\n",
    "            - ${\\bf A}(i,k)=m_{ik}$\n",
    "        - EndIf\n",
    "    - EndFor\n",
    "- EndFor\n",
    "\n",
    "This algorithm can be implemented in the following function:"
   ]
  },
  {
   "cell_type": "code",
   "execution_count": 13,
   "metadata": {},
   "outputs": [],
   "source": [
    "def LUpivot(A,tol=1.0e-15):\n",
    "    n = len(A)\n",
    "    # define permutation vector\n",
    "    perm = np.array(range(n))\n",
    "    for k in range(0,n-1):\n",
    "        # perform row interchange if necessary\n",
    "        p = np.argmax(np.abs(A[k:n,k])) + k\n",
    "        if np.abs(A[p,k]) < tol:\n",
    "            error.err('singular matrix has been detected')\n",
    "        if p != k:\n",
    "            rowSwap(A,k,p)\n",
    "            rowSwap(perm,k,p)\n",
    "        # perform Gauss elimination\n",
    "        for i in range(k+1,n):\n",
    "            if A[i,k] != 0.0:\n",
    "                mik = A[i,k]/A[k,k]\n",
    "                A[i,k+1:n] = A[i,k+1:n] - mik*A[k,k+1:n]\n",
    "                A[i,k] = mik\n",
    "    return A, perm "
   ]
  },
  {
   "cell_type": "markdown",
   "metadata": {},
   "source": [
    "In order to solve a linear system ${\\bf A}{\\bf x}={\\bf b}$ using $LU$ factorization with partial pivoting, we multiply both sides of the system with ${\\bf P}$ to obtain ${\\bf L}{\\bf U}{\\bf x}={\\bf P}{\\bf b}$ since ${\\bf P}{\\bf A}={\\bf L}{\\bf U}$. Then, we perform the usual steps of forward and backward substitution to the vector ${\\bf P}{\\bf b}$ instead of ${\\bf b}$. The implementation could be the following"
   ]
  },
  {
   "cell_type": "code",
   "execution_count": 14,
   "metadata": {},
   "outputs": [],
   "source": [
    "def solveLUpivot(A,b,perm):\n",
    "    n = len(A)\n",
    "    # Store right-hand side in solution vector x\n",
    "    x = b.copy()\n",
    "    for i in range(n):\n",
    "        x[i]=b[perm[i]]\n",
    "    # Forward-backward substitution\n",
    "    for k in range(1,n):\n",
    "        x[k] = x[k] - np.dot(A[k,0:k],x[0:k])\n",
    "    x[n-1] = x[n-1]/A[n-1,n-1]\n",
    "    for k in range(n-2,-1,-1):\n",
    "        x[k] = (x[k] - np.dot(A[k,k+1:n],x[k+1:n]))/A[k,k]\n",
    "    return x"
   ]
  },
  {
   "cell_type": "markdown",
   "metadata": {},
   "source": [
    "We test our code for the system ${\\bf A}{\\bf x}={\\bf b}$ with \n",
    "$${\\bf A}=\\begin{pmatrix}\n",
    "3 & 17 & 10 \\\\\n",
    "2 & 4 & -2 \\\\\n",
    "6 & 18 & -12 \n",
    "\\end{pmatrix}\n",
    "\\quad \\mbox{and}\\quad\n",
    "{\\bf b}=\\begin{pmatrix}\n",
    "30\\\\ 4\\\\ 12\\\\\n",
    "\\end{pmatrix}\\ ,\n",
    "$$\n",
    "\n"
   ]
  },
  {
   "cell_type": "code",
   "execution_count": 15,
   "metadata": {},
   "outputs": [
    {
     "name": "stdout",
     "output_type": "stream",
     "text": [
      "[1. 1. 1.]\n"
     ]
    }
   ],
   "source": [
    "A = np.array([[ 3., 17., 10.], \n",
    "              [ 2., 4.,-2.], \n",
    "              [ 6.,18.,-12.]])\n",
    "b = np.array([ 30., 4., 12.])\n",
    "[A,perm] = LUpivot(A)\n",
    "x = solveLUpivot(A,b,perm)\n",
    "print(x)"
   ]
  },
  {
   "cell_type": "code",
   "execution_count": 16,
   "metadata": {},
   "outputs": [
    {
     "name": "stdout",
     "output_type": "stream",
     "text": [
      "P=\n",
      "[[0. 0. 1.]\n",
      " [1. 0. 0.]\n",
      " [0. 1. 0.]]\n",
      "L=\n",
      "[[ 1.          0.          0.        ]\n",
      " [ 0.5         1.          0.        ]\n",
      " [ 0.33333333 -0.25        1.        ]]\n",
      "U=\n",
      "[[  6.  18. -12.]\n",
      " [  0.   8.  16.]\n",
      " [  0.   0.   6.]]\n"
     ]
    }
   ],
   "source": [
    "# construct lower triangular matrix L\n",
    "L = np.tril(A,-1)+np.eye(3)\n",
    "# construct upper triangular matrix U\n",
    "U = np.triu(A)\n",
    "# construct permutation matrix P\n",
    "P = np.eye(3)\n",
    "P = P[perm,:]\n",
    "print('P='); print(P)\n",
    "print('L='); print(L)\n",
    "print('U='); print(U)"
   ]
  },
  {
   "cell_type": "markdown",
   "metadata": {},
   "source": [
    "## Cholesky Factorization"
   ]
  },
  {
   "cell_type": "markdown",
   "metadata": {},
   "source": [
    "If ${\\bf A}$ is symmetric and positive definite, then we can write ${\\bf A}$ in the form\\index{factorization!$HH^T$}\\index{factorization!$HH^T$}\n",
    "$${\\bf A}={\\bf H}{\\bf H}^T\\ ,$$\n",
    "where ${\\bf H}$ is lower triangular matrix (without necessarily ones in the main diagonal). This is the Cholesky factorization of symmetric and positive definite matrix. \n",
    "\n",
    "The algorithm of Cholesky factorization is the following:\n",
    "\n",
    "- For $i=1:n$\n",
    "    - ${\\bf H}(i,i)=\\sqrt{{\\bf A}(i,i)-\\sum_{k=1}^{i-1}{\\bf H}^2(i,k)}$\n",
    "    - For $j=i+1:n$\n",
    "        - ${\\bf H}(j,i)=\\left({\\bf A}(j,i)-\\sum_{k=1}^{i-1}{\\bf H}(j,k){\\bf H}(i,k) \\right)/{\\bf H}(i,i)$\n",
    "    - EndFor\n",
    "- EndFor\n",
    "\n",
    "and its implementation:"
   ]
  },
  {
   "cell_type": "code",
   "execution_count": 17,
   "metadata": {},
   "outputs": [],
   "source": [
    "def Cholesky(A):\n",
    "    n = len(A)\n",
    "    for i in range(n):\n",
    "        try:\n",
    "            A[i,i]=np.sqrt(A[i,i] - np.dot(A[i,0:i],A[i,0:i]))\n",
    "        except ValueError:\n",
    "            error.err('Matrix is not positive definite')\n",
    "        for j in range(i+1,n):\n",
    "            A[j,i] = (A[j,i]-np.dot(A[j,0:i],A[i,0:i]))/A[i,i]   \n",
    "    for k in range(1,n):\n",
    "        A[0:k,k]=0.0 \n",
    "    return A"
   ]
  },
  {
   "cell_type": "markdown",
   "metadata": {},
   "source": [
    "####  Solving linear systems using Cholesky factorization\n",
    "\n",
    "After having a symmetric and positive definite matrix ${\\bf A}$ factorized in ${\\bf H}{\\bf H}^T$, we can employ forward and backward substitution to solve any linear system of the form ${\\bf A}{\\bf x}={\\bf b}$. We first solve the system ${\\bf H}{\\bf y}={\\bf b}$ and then the system ${\\bf H}^T{\\bf x}={\\bf b}$. This is exactly what we did in the $LU$ factorization, with the only difference that instead of ${\\bf U}$ we will have here ${\\bf H}^T$, and in the forward substitution we need to divide by the diagonal entries $h_{ii}$. \n"
   ]
  },
  {
   "cell_type": "code",
   "execution_count": 18,
   "metadata": {},
   "outputs": [],
   "source": [
    "def solveCholesky(H,b):\n",
    "    n = len(b)\n",
    "    # Solve Hy=b\n",
    "    for k in range(n):\n",
    "        b[k] = (b[k] - np.dot(H[k,0:k],b[0:k]))/H[k,k]\n",
    "    # Solve H^T x =y\n",
    "    for k in range(n-1,-1,-1):\n",
    "        b[k] = (b[k] - np.dot(H[k+1:n,k],b[k+1:n]))/H[k,k]\n",
    "    return b"
   ]
  },
  {
   "cell_type": "markdown",
   "metadata": {},
   "source": [
    "We try our code with the matrix \n",
    "$${\\bf A}=\\begin{pmatrix} 4 & -1 & 1 \\\\\n",
    "-1 & 4.25 & 2.75 \\\\\n",
    "1& 2.75 & 3.5 \n",
    "\\end{pmatrix}\\ , $$ \n",
    "and to the linear system ${\\bf A}{\\bf x}={\\bf b}$ with ${\\bf b}=(4, 6, 7.25)^T$ we get the right answer, as expected."
   ]
  },
  {
   "cell_type": "code",
   "execution_count": 19,
   "metadata": {},
   "outputs": [
    {
     "name": "stdout",
     "output_type": "stream",
     "text": [
      "[[ 2.   0.   0. ]\n",
      " [-0.5  2.   0. ]\n",
      " [ 0.5  1.5  1. ]]\n",
      "[1. 1. 1.]\n"
     ]
    }
   ],
   "source": [
    "A = np.array([[4.0, -1.0, 1.0], \n",
    "              [-1.0, 4.25, 2.75], \n",
    "              [1.0, 2.75, 3.5]])\n",
    "H = Cholesky(A)\n",
    "print(H)\n",
    "b = np.array([4.0, 6.0, 7.25])\n",
    "x = solveCholesky(H,b)\n",
    "print(x)"
   ]
  },
  {
   "cell_type": "markdown",
   "metadata": {},
   "source": [
    "## The Module `scipy.linalg` Again"
   ]
  },
  {
   "cell_type": "markdown",
   "metadata": {},
   "source": [
    "The easiest way to obtain the $LU$ factorization of a matrix  ${\\bf A}$ is by using its SciPy implementation, which is the function `scipy.linalg.lu`. "
   ]
  },
  {
   "cell_type": "code",
   "execution_count": 20,
   "metadata": {},
   "outputs": [
    {
     "name": "stdout",
     "output_type": "stream",
     "text": [
      "[[0. 1. 0.]\n",
      " [0. 0. 1.]\n",
      " [1. 0. 0.]]\n",
      "[[ 1.          0.          0.        ]\n",
      " [ 0.5         1.          0.        ]\n",
      " [ 0.33333333 -0.25        1.        ]]\n",
      "[[  6.  18. -12.]\n",
      " [  0.   8.  16.]\n",
      " [  0.   0.   6.]]\n"
     ]
    }
   ],
   "source": [
    "import scipy.linalg as spl\n",
    "A = np.array([[ 3., 17., 10.], \n",
    "              [ 2., 4.,-2.], \n",
    "              [ 6.,18.,-12.]])\n",
    "(P,L,U) = spl.lu(A)\n",
    "print(P)\n",
    "print(L)\n",
    "print(U)"
   ]
  },
  {
   "cell_type": "markdown",
   "metadata": {},
   "source": [
    "A similar function of the module `scipy.linalg` is the function `lu_factor`. The function `lu_solve` returns only the solution `x`. For example, in the previous problem we write:"
   ]
  },
  {
   "cell_type": "code",
   "execution_count": 21,
   "metadata": {},
   "outputs": [
    {
     "name": "stdout",
     "output_type": "stream",
     "text": [
      "[1. 1. 1.]\n"
     ]
    }
   ],
   "source": [
    "A = np.array([[ 3., 17., 10.], \n",
    "              [ 2., 4.,-2.], \n",
    "              [ 6.,18.,-12.]])\n",
    "b = np.array([30., 4., 12.])\n",
    "(LU,P) = spl.lu_factor(A)\n",
    "x = spl.lu_solve((LU,P),b)\n",
    "print(x)"
   ]
  },
  {
   "cell_type": "markdown",
   "metadata": {},
   "source": [
    "There are two implementations of the Cholesky factorization in Python. One is in module `numpy.linalg` and the other in `scipy.linalg`. Both functions have the same name, which is `cholesky` and require as input a symmetric and positive definite matrix.\n",
    "\n",
    "In order to solve the triangular systems ${\\bf H}{\\bf y}={\\bf b}$ and ${\\bf H}^T{\\bf x}={\\bf y}$ we can use the function `solve_triangular` of `scipy.linalg`"
   ]
  },
  {
   "cell_type": "code",
   "execution_count": 22,
   "metadata": {},
   "outputs": [
    {
     "name": "stdout",
     "output_type": "stream",
     "text": [
      "[[ 2.  -0.5  0.5]\n",
      " [ 0.   2.   1.5]\n",
      " [ 0.   0.   1. ]]\n",
      "[1.   1.5  7.25]\n"
     ]
    }
   ],
   "source": [
    "A = np.array([[4.0, -1.0, 1.0], \n",
    "              [-1.0, 4.25, 2.75], \n",
    "              [1.0, 2.75, 3.5]])\n",
    "b = np.array([4.0, 6.0, 7.25])\n",
    "H = spl.cholesky(A)\n",
    "print(H)\n",
    "# We use the option lower=True since H is lower triangular matrix\n",
    "y = spl.solve_triangular(H, b, lower=True)\n",
    "# We use the option trans=1 to solve the system H^Tx=y\n",
    "x = spl.solve_triangular(H, y, trans=1, lower=True)\n",
    "print(x)"
   ]
  },
  {
   "cell_type": "markdown",
   "metadata": {},
   "source": [
    "## Iterative Methods\n",
    "\n",
    "Here we present some of the classical iterative methods:"
   ]
  },
  {
   "cell_type": "markdown",
   "metadata": {},
   "source": [
    "### The Jacobi Method\n",
    "\n",
    "The Jacobi method is the simplest iterative method. We choose for the splitting of ${\\bf A}={\\bf M}-{\\bf N}$ the matrices\n",
    "$${\\bf M}={\\bf D}\\quad \\mbox{ and } \\quad {\\bf N}={\\bf L}+{\\bf U}\\ .$$\n",
    "Then, the fixed point method ${\\bf M}{\\bf x}^{(k+1)}={\\bf N}{\\bf x}^{(k)}+{\\bf b}$ is written as \n",
    "$${\\bf D}{\\bf x}^{(k+1)}=({\\bf L}+{\\bf U}){\\bf x}^{(k)}+{\\bf b}\\ .$$\n",
    "The choice of the matrix ${\\bf M}={\\bf D}$ is not by chance of course. Since our method relies on the inversion of ${\\bf M}$, we prefer ${\\bf M}$ to be easily invertible, and there is no matrix more easily invertible than a diagonal matrix. After inverting the diagonal matrix ${\\bf D}$, we have the Jacobi method written in vector form\n",
    "$$\n",
    "{\\bf x}^{(k+1)}={\\bf D}^{-1}({\\bf L}+{\\bf U}){\\bf x}^{(k)}+{\\bf D}^{-1}{\\bf b},\\quad k=0,1,2,\\dots\\ .\n",
    "$$\n",
    "Writing each equation of the Jacobi iteration explicitly, we have for each entry of ${\\bf x}^{(k+1)}$ that\n",
    "$$\n",
    "x_i^{(k+1)}=\\left(b_i-\\sum_{\\substack{j=1\\\\ j\\not=i}}^na_{ij}x_j^{(k)} \\right)\\Big/a_{ii},\\quad i=1,\\dots, n\\ .\n",
    "$$\n",
    "We immediately deduce that we need $a_{ii}\\not=0$, for $i=1,2,\\dots, n$. If ${\\bf A}$ is nonsingular but one of the values $a_{ii}$ is $0$ then  reordering of the equations can be performed so that no $a_{ii}$ is zero. \n",
    "\n",
    "Our implementation using matrix format is the following:\n"
   ]
  },
  {
   "cell_type": "code",
   "execution_count": 23,
   "metadata": {},
   "outputs": [],
   "source": [
    "import numpy.linalg as npl\n",
    "\n",
    "\n",
    "def jacobi(A, b, x, tol = 1.e-5, maxit = 100):\n",
    "    d = np.copy(np.diag(A))\n",
    "    np.fill_diagonal(A,0.0)\n",
    "    err = 1.0\n",
    "    iters = 0\n",
    "    while (err > tol and iters < maxit):\n",
    "        iters += 1\n",
    "        xnew = (b - np.dot(A,x)) / d\n",
    "        err = npl.norm(xnew-x,np.inf)\n",
    "        x = np.copy(xnew)\n",
    "    print('iterations required for convergence:', iters)\n",
    "    return x"
   ]
  },
  {
   "cell_type": "markdown",
   "metadata": {},
   "source": [
    "We test the code for a system ${\\bf A}{\\bf x}={\\bf b}$ with matrix\n",
    "$${\\bf A}=\\begin{pmatrix}\n",
    "2 & -1 & 0\\\\\n",
    "-1 &3 & -1\\\\\n",
    "0 &-1& 2\n",
    "\\end{pmatrix}\\ ,$$\n",
    "and vector ${\\bf b}=(1, 8, -5)^T$, which has exact solution ${\\bf x}=(2,3,-1)^T$. As initial guess we take the vector ${\\bf x}^{(0)}=(0,0,0)^T$.\n"
   ]
  },
  {
   "cell_type": "code",
   "execution_count": 24,
   "metadata": {},
   "outputs": [
    {
     "name": "stdout",
     "output_type": "stream",
     "text": [
      "iterations required for convergence: 24\n",
      "[ 1.99999906  2.99999435 -1.00000094]\n"
     ]
    }
   ],
   "source": [
    "A = np.array([[2.0, -1.0,  0.0],\n",
    "              [-1.0, 3.0, -1.0],\n",
    "              [0.0, -1.0,  2.0]])\n",
    "b = np.array([1.0, 8.0, -5.0])\n",
    "x = np.zeros(3)\n",
    "x = jacobi(A, b, x, 1.e-5, 100)\n",
    "print(x)"
   ]
  },
  {
   "cell_type": "markdown",
   "metadata": {},
   "source": [
    "### The Gauss-Seidel Method\n",
    "\n",
    "The Gauss-Seidel method uses the same splitting for the matrix ${\\bf A}={\\bf M}-{\\bf N}={\\bf D}-{\\bf L}-{\\bf U}$ as the Jacobi method, but instead of choosing ${\\bf M}$ to be diagonal we choose ${\\bf M}$ to be the lower triangular matrix ${\\bf M}={\\bf D}-{\\bf L}$. Therefore, ${\\bf N}$ is the upper triangular matrix ${\\bf N}={\\bf U}$. The fixed point equation then becomes\n",
    "$$({\\bf D}-{\\bf L}){\\bf x}={\\bf U}{\\bf x}+{\\bf b}\\ ,$$\n",
    "and the Gauss-Seidel iteration is defined as\n",
    "$$\n",
    "({\\bf D}-{\\bf L}){\\bf x}^{(k+1)}={\\bf U}{\\bf x}^{(k)}+{\\bf b},\\quad k=0,1,2,\\dots\\ .\n",
    "$$\n",
    "In order to solve for the next iteration ${\\bf x}^{(k+1)}$ given the approximation ${\\bf x}^{(k)}$\n",
    "we either need to invert a lower triangular matrix or perform the forward substitution. After the inversion of the matrix ${\\bf D}-{\\bf L}$, the $k+1$ iteration can be written in the form\n",
    "$$\n",
    "{\\bf x}^{(k+1)}=({\\bf D}-{\\bf L})^{-1}{\\bf U}{\\bf x}^{(k)}+({\\bf D}-{\\bf L})^{-1}{\\bf b}\\ .\n",
    "$$\n",
    "Performing forward substitution we obtain\n",
    "$$\n",
    "x_i^{(k+1)}=\\left(b_i-\\sum_{j=1}^{i-1} a_{ij}x_j^{(k+1)} -\\sum_{j=i+1}^{n} a_{ij}x_j^{(k)} \\right)\\Big/a_{ii}.\\quad i=1,\\dots, n\\ .\n",
    "$$\n",
    "\n",
    "Our implementation again is the following:\n"
   ]
  },
  {
   "cell_type": "code",
   "execution_count": 25,
   "metadata": {},
   "outputs": [],
   "source": [
    "def gauss_seidel(A, b, x, tol = 1.e-5, maxit = 100):\n",
    "    n = len(b)\n",
    "    err = 1.0\n",
    "    iters = 0\n",
    "    # Initialize the solution with the initial guess\n",
    "    xnew = np.zeros_like(x)\n",
    "    # Extract the lower triangular part of A\n",
    "    M = np.tril(A)\n",
    "    # Construct the upper triangular part of A\n",
    "    U = A - M\n",
    "    while (err > tol and iters < maxit):\n",
    "        iters += 1\n",
    "        # Compute the new approximation\n",
    "        xnew = np.dot(npl.inv(M), b - np.dot(U, x))\n",
    "        # Estimate convergence\n",
    "        err = npl.norm(xnew-x,np.inf)\n",
    "        x = np.copy(xnew)\n",
    "    print('iterations required for convergence:', iters)     \n",
    "    return x"
   ]
  },
  {
   "cell_type": "markdown",
   "metadata": {},
   "source": [
    "Testing the code for the same system as we did in the case of the Jacobi method we compute the same solution."
   ]
  },
  {
   "cell_type": "code",
   "execution_count": 26,
   "metadata": {},
   "outputs": [
    {
     "name": "stdout",
     "output_type": "stream",
     "text": [
      "iterations required for convergence: 11\n",
      "[ 1.99999577  2.99999718 -1.00000141]\n"
     ]
    }
   ],
   "source": [
    "A = np.array([[2.0, -1.0,  0.0],\n",
    "              [-1.0, 3.0, -1.0],\n",
    "              [0.0, -1.0,  2.0]])\n",
    "b = np.array([1.0, 8.0, -5.0])\n",
    "x = np.zeros(3)\n",
    "x = gauss_seidel(A, b, x, 1.e-5, 100)\n",
    "print(x)"
   ]
  },
  {
   "cell_type": "markdown",
   "metadata": {},
   "source": [
    "A different implmentation is the following:"
   ]
  },
  {
   "cell_type": "code",
   "execution_count": 27,
   "metadata": {},
   "outputs": [],
   "source": [
    "def gauss_seidel(A, b, x, tol = 1.e-5, maxit = 100):\n",
    "    n = len(b)\n",
    "    err = 1.0\n",
    "    iters = 0\n",
    "    xnew = np.zeros_like(x)\n",
    "    while (err > tol and iters < maxit):\n",
    "        iters += 1\n",
    "        for i in range(n):\n",
    "            s1 = np.dot(A[i, :i], xnew[:i])\n",
    "            s2 = np.dot(A[i, i + 1:], x[i + 1:])\n",
    "            xnew[i] = (b[i] - s1 - s2) / A[i, i]\n",
    "        err = npl.norm(xnew-x,np.inf)\n",
    "        x = np.copy(xnew)\n",
    "    print('iterations required for convergence', iters)\n",
    "    return x"
   ]
  },
  {
   "cell_type": "code",
   "execution_count": 28,
   "metadata": {},
   "outputs": [
    {
     "name": "stdout",
     "output_type": "stream",
     "text": [
      "iterations required for convergence 11\n",
      "[ 1.99999577  2.99999718 -1.00000141]\n"
     ]
    }
   ],
   "source": [
    "A = np.array([[2.0, -1.0,  0.0],\n",
    "              [-1.0, 3.0, -1.0],\n",
    "              [0.0, -1.0,  2.0]])\n",
    "b = np.array([1.0, 8.0, -5.0])\n",
    "x = np.zeros(3)\n",
    "x = gauss_seidel(A, b, x, 1.e-5, 100)\n",
    "print(x)"
   ]
  },
  {
   "cell_type": "markdown",
   "metadata": {},
   "source": [
    "## Sparse Matrices"
   ]
  },
  {
   "cell_type": "markdown",
   "metadata": {},
   "source": [
    "Often in applications the resulting matrices are sparses, i.e. most of their entries are zeros. An example of a sparse matrix is the tridiagonal matrix for example\n",
    "\n",
    "$${\\bf A}=\\begin{pmatrix}\n",
    "2 & -1 & 0 & \\cdots & 0\\\\\n",
    "-1 & 2 & -1 & \\cdots & 0\\\\\n",
    "0 & \\ddots & \\ddots & \\ddots & 0\\\\\n",
    "0 & \\cdots & -1 & 2 & -1\\\\\n",
    "0 & \\cdots & 0 & -1 & 2\n",
    "\\end{pmatrix}\n",
    "$$\n",
    "\n",
    "To store these matrices efficiently we usually prefer to store only the nonzero entries using special data structures.\n",
    "\n",
    "SciPy provides tools to handle sparse matrices with the module `sparse`.\n",
    "\n",
    "There are seven different types of sparse matrix storage available, namely, the\n",
    "\n",
    "- bsr_matrix: Block Sparse Row matrix\n",
    "\n",
    "- coo_matrix: Coordinate format matrix\n",
    "\n",
    "- csc_matrix: Compressed sparse column matrix\n",
    "\n",
    "- csr_matrix: Compressed sparse row matrx\n",
    "\n",
    "- dia_matrix: Sparse matrix with diagonal storage\n",
    "\n",
    "- dok_matrix: Dictionary of keys based sparse matrix\n",
    "\n",
    "- lil_matrix: Row-based linked list sparse matrix\n",
    "\n",
    "We will not analyse all these formats in this course but we suggest the interested reader to search online for more information.\n",
    "\n",
    "Here is an example of sparse storage using the `coo_matrix` where the nonzero entries are stored in an array and in two different arrays the corresponding $i$, $j$ indices:"
   ]
  },
  {
   "cell_type": "code",
   "execution_count": 29,
   "metadata": {},
   "outputs": [
    {
     "name": "stdout",
     "output_type": "stream",
     "text": [
      "  (0, 0)\t2.0\n",
      "  (0, 1)\t-1.0\n",
      "  (1, 0)\t-1.0\n",
      "  (1, 1)\t2.0\n",
      "  (1, 2)\t-1.0\n",
      "  (2, 1)\t-1.0\n",
      "  (2, 2)\t2.0\n",
      "  (2, 3)\t-1.0\n",
      "  (3, 2)\t-1.0\n",
      "  (3, 3)\t2.0\n"
     ]
    }
   ],
   "source": [
    "from scipy import sparse\n",
    "\n",
    "S = np.array([[ 2.0,-1.0, 0.0, 0.0],\n",
    "           [-1.0, 2.0,-1.0, 0.0],\n",
    "           [ 0.0,-1.0, 2.0,-1.0],\n",
    "           [ 0.0, 0.0,-1.0, 2.0]])\n",
    "\n",
    "A = sparse.coo_matrix(S)\n",
    "\n",
    "print(A)"
   ]
  },
  {
   "cell_type": "markdown",
   "metadata": {},
   "source": [
    "In Python we can get the CSR format easily using the `sparse.csr_matrix` function as it is demonstrated in the following example.\n"
   ]
  },
  {
   "cell_type": "code",
   "execution_count": 30,
   "metadata": {},
   "outputs": [
    {
     "name": "stdout",
     "output_type": "stream",
     "text": [
      "[10 20 30 40 50 60 70 80]\n",
      "[0 2 4 7 8]\n",
      "[0 1 1 3 2 3 4 5]\n"
     ]
    }
   ],
   "source": [
    "import numpy as np\n",
    "\n",
    "A = np.array([[10, 20,  0,  0,  0,  0],\n",
    "              [ 0, 30,  0, 40,  0,  0],\n",
    "              [ 0,  0, 50, 60, 70,  0],\n",
    "              [ 0,  0,  0,  0,  0, 80]])\n",
    "S = sparse.csr_matrix(A)\n",
    "print(S.data[:])\n",
    "print(S.indptr[:])\n",
    "print(S.indices[:])"
   ]
  },
  {
   "cell_type": "markdown",
   "metadata": {},
   "source": [
    "### Sparse Gauss-Seidel Implementation\n",
    "\n",
    "We present a naive implementation of the method for sparse matrices, where we just store the matrix $\\bA$ into the CSR sparse format in Python. We consider the matrix ${\\bf A}=tridiag(-1,2,-1)$, which can be written analytically\n",
    "$$\n",
    "{\\bf A}=\\begin{pmatrix}\n",
    "2 & -1 & 0 & 0\\\\\n",
    "-1 & 2 & -1 & 0\\\\\n",
    "0 & -1& 2 & -1 \\\\\n",
    "0 & 0 & -1 & 2\n",
    "\\end{pmatrix}\\ ,\n",
    "$$\n",
    "and the vector ${\\bf b}=(1,0,0,1)$. Then, the system ${\\bf A}{\\bf x}={\\bf b}$ has the unique solution ${\\bf x}=(1,1,1,1)$. We get the CSR format of ${\\bf A}$ as before."
   ]
  },
  {
   "cell_type": "code",
   "execution_count": 31,
   "metadata": {},
   "outputs": [],
   "source": [
    "A = np.array([[ 2.0,-1.0, 0.0, 0.0],\n",
    "              [-1.0, 2.0,-1.0, 0.0],\n",
    "              [ 0.0,-1.0, 2.0,-1.0],\n",
    "              [ 0.0, 0.0,-1.0, 2.0]])\n",
    "S = sparse.csr_matrix(A)\n",
    "x = np.ones(4)\n",
    "b = S.dot(x)"
   ]
  },
  {
   "cell_type": "markdown",
   "metadata": {},
   "source": [
    "In this code we create the right-hand side using the command `b = S.dot(x)` which performs sparse matrix vector multiplication. This multiplication takes into account the sparsity of ${\\bf A}$ and is faster than the full matrix multiplication.\n",
    "\n",
    "In the following code we present an implementation of the Gauss-Seidel method for sparse matrices."
   ]
  },
  {
   "cell_type": "code",
   "execution_count": 32,
   "metadata": {},
   "outputs": [],
   "source": [
    "def sp_gauss_seidel(S, b, x, tol = 1.e-5, maxit = 100):\n",
    "    n = len(b)\n",
    "    xnew = np.zeros_like(x) # create new vector\n",
    "    D = sparse.spdiags(S, 0, n, n)\n",
    "    L = sparse.tril(S, 0, format = 'csc')\n",
    "    U = sparse.triu(S, 1, format = 'csc')\n",
    "    G = -(sparse.linalg.inv(L)).dot(U)\n",
    "    c = (sparse.linalg.inv(L)).dot(b)\n",
    "    iters = 0\n",
    "    err = 1.0\n",
    "    while (err > tol and iters < maxit):\n",
    "        iters += 1\n",
    "        xnew = G*x + c\n",
    "        err = npl.norm(xnew-x, np.inf)\n",
    "        x = xnew\n",
    "    print('iterations required for convergence:', iters)\n",
    "    return x"
   ]
  },
  {
   "cell_type": "markdown",
   "metadata": {},
   "source": [
    "And we test our code:"
   ]
  },
  {
   "cell_type": "code",
   "execution_count": 33,
   "metadata": {},
   "outputs": [
    {
     "name": "stdout",
     "output_type": "stream",
     "text": [
      "iterations required for convergence: 27\n",
      "[0.99998763 0.9999838  0.9999869  0.99999345]\n"
     ]
    }
   ],
   "source": [
    "x = np.zeros(len(b))\n",
    "x = sp_gauss_seidel(S, b, x, tol = 1.e-5, maxit = 100)\n",
    "print(x)"
   ]
  },
  {
   "cell_type": "markdown",
   "metadata": {},
   "source": [
    "#### Avoiding Inverse Matrix\n",
    "\n",
    "A sophisticated implementation of Gauss-Seidel method should avoid the computation of the inverse of ${\\bf D}-{\\bf L}$, and make use of the indices of the non-zero entries only. In order to implement the Gauss-Seidel method efficiently, we consider writing the method in vector format:\n",
    "Let ${\\bf A}_i$ be the $i$-th row of ${\\bf A}$. The two sums in the formula\n",
    "$$x_i^{(k+1)}=\\left(b_i-\\sum_{j=1}^{i-1} a_{ij}x_j^{(k+1)} -\\sum_{j=i+1}^{n} a_{ij}x_j^{(k)} \\right)/a_{ii}\\ ,$$ \n",
    "can be represented as the regular vector product of ${\\bf A}_i$ with the vector \n",
    "$${\\bf z}^{(k)} =(x_1^{(k+1)},\\dots,x_{i-1}^{(k+1)},0,x_{i+1}^{(k)},\\dots,x_n^{(k)})^T\\ .$$\n",
    "Subsequently, the Gauss-Seidel iteration takes the form\n",
    "$$x_i^{(k+1)}=\\left(b_i-{\\bf A}_i{\\bf z}^{(k)}\\right)/a_{ii}\\ .$$ \n",
    "The implementation of this technique can be the following:"
   ]
  },
  {
   "cell_type": "code",
   "execution_count": 34,
   "metadata": {},
   "outputs": [],
   "source": [
    "def sp_gauss_seidel(S, b, x, tol = 1.e-5, maxit = 100):\n",
    "    n = len(b)\n",
    "    err = 1.0\n",
    "    iters = 0\n",
    "    D = S.diagonal()\n",
    "    xnew = np.zeros_like(x)\n",
    "    while (err > tol and iters < maxit):\n",
    "        iters += 1\n",
    "        for i in range(n):\n",
    "            rowstart = S.indptr[i]\n",
    "            rowend = S.indptr[i+1]\n",
    "            z = np.copy(x)\n",
    "            z[:i] = xnew[:i]\n",
    "            z[i]=0.0\n",
    "            s = np.dot(S.data[rowstart:rowend], z[S.indices[rowstart:rowend]])\n",
    "            xnew[i] = (b[i] - s) / D[i]\n",
    "        err = np.linalg.norm(xnew-x,np.inf)\n",
    "        x = np.copy(xnew)\n",
    "    print('iterations required for convergence:', iters)\n",
    "    return x"
   ]
  },
  {
   "cell_type": "markdown",
   "metadata": {},
   "source": [
    "Testing the code using the same matrices as before we get"
   ]
  },
  {
   "cell_type": "code",
   "execution_count": 35,
   "metadata": {},
   "outputs": [
    {
     "name": "stdout",
     "output_type": "stream",
     "text": [
      "iterations required for convergence: 27\n",
      "[0.99998763 0.9999838  0.9999869  0.99999345]\n"
     ]
    }
   ],
   "source": [
    "A = np.array([[ 2.0,-1.0, 0.0, 0.0],\n",
    "              [-1.0, 2.0,-1.0, 0.0],\n",
    "              [ 0.0,-1.0, 2.0,-1.0],\n",
    "              [ 0.0, 0.0,-1.0, 2.0]])\n",
    "S = sparse.coo_matrix(A)\n",
    "x = np.ones(4)\n",
    "S = S.tocsr()\n",
    "b = S.dot(x)\n",
    "x = np.zeros(len(b))\n",
    "x = sp_gauss_seidel(S, b, x, tol = 1.e-5, maxit = 100)\n",
    "print(x)"
   ]
  },
  {
   "cell_type": "markdown",
   "metadata": {},
   "source": [
    "### Sparse linear systems and the module `scipy.sparse`\n",
    "\n",
    "We can solve a system of equations ${\\bf S}{\\bf x}={\\bf b}$ given that ${\\bf S}$ is in sparse format  using the function `spsolve` of `scipy.sparse.linalg`"
   ]
  },
  {
   "cell_type": "code",
   "execution_count": 36,
   "metadata": {},
   "outputs": [
    {
     "name": "stdout",
     "output_type": "stream",
     "text": [
      "[1. 1. 1. 1.]\n"
     ]
    }
   ],
   "source": [
    "from scipy import sparse\n",
    "from scipy.sparse import linalg\n",
    "import numpy as np\n",
    "\n",
    "A = np.array([[ 2.0,-1.0, 0.0, 0.0],\n",
    "              [-1.0, 2.0,-1.0, 0.0],\n",
    "              [ 0.0,-1.0, 2.0,-1.0],\n",
    "              [ 0.0, 0.0,-1.0, 2.0]])\n",
    "S= sparse.csc_matrix(A)\n",
    "x = np.ones(4)\n",
    "b = S.dot(x)\n",
    "x = linalg.spsolve(S,b)\n",
    "print(x)\n"
   ]
  },
  {
   "cell_type": "markdown",
   "metadata": {},
   "source": [
    "We can view the structure of the nonzero entries of a matrix $S$ using the module MatPlotLib as follows"
   ]
  },
  {
   "cell_type": "code",
   "execution_count": 37,
   "metadata": {},
   "outputs": [
    {
     "data": {
      "image/png": "[encoded data removed]",
      "text/plain": [
       "<Figure size 640x480 with 1 Axes>"
      ]
     },
     "metadata": {},
     "output_type": "display_data"
    }
   ],
   "source": [
    "import matplotlib.pyplot as plt\n",
    "\n",
    "plt.spy(S)\n",
    "plt.show()"
   ]
  },
  {
   "cell_type": "markdown",
   "metadata": {},
   "source": [
    "A conventional way to characterize a matrix as sparse is to consider the sparsity index $I_s=N_s/N$ where $N_s$ is the number of zero entries of $S$. The closer this index is to 1 the more sparse is the matrix $S$. In our example"
   ]
  },
  {
   "cell_type": "code",
   "execution_count": 39,
   "metadata": {},
   "outputs": [
    {
     "name": "stdout",
     "output_type": "stream",
     "text": [
      "0.375\n"
     ]
    }
   ],
   "source": [
    "Is = 1-S.count_nonzero()/np.size(S.toarray())\n",
    "print(Is)"
   ]
  },
  {
   "cell_type": "markdown",
   "metadata": {},
   "source": [
    "### Application in electric circuits"
   ]
  },
  {
   "cell_type": "markdown",
   "metadata": {},
   "source": [
    "Using Kirchhoff's laws to analyze a circuit we obtain the linear system ${\\bf A}{\\bf x}={\\bf b}$\n",
    "\n",
    "$$\n",
    "{\\bf A}=\\begin{pmatrix}\n",
    "1 & -1 & 0 & 0 & -1 & 0\\\\\n",
    "0 & 1 & -1 & -1 & 0 & 0\\\\\n",
    "0 & 0 & 0 & 1 & 1 & -1\\\\\n",
    "0 & 0 & 0 & 0 & 1 & 2\\\\\n",
    "0 & 2 & 0 & 2 & -1 & 0\\\\\n",
    "0 & 0 & 1 & -2 & 0 & -2\n",
    "\\end{pmatrix},\n",
    "\\quad {\\bf x} =\\begin{pmatrix}\n",
    "I_0\\\\\n",
    "I_1\\\\\n",
    "I_2\\\\\n",
    "I_3\\\\\n",
    "I_4\\\\\n",
    "I_5\n",
    "\\end{pmatrix} \\quad \\text{ and }\\quad {\\bf b}=\\begin{pmatrix}\n",
    "0 \\\\\n",
    "0\\\\\n",
    "0 \\\\\n",
    "10\\\\\n",
    "0\\\\\n",
    "0\n",
    "\\end{pmatrix}\\ .\n",
    "$$ \n",
    "We solve this system as follows:"
   ]
  },
  {
   "cell_type": "code",
   "execution_count": 40,
   "metadata": {},
   "outputs": [
    {
     "name": "stdout",
     "output_type": "stream",
     "text": [
      "I = [ 7.  3.  4. -1.  4.  3.]\n"
     ]
    }
   ],
   "source": [
    "A = np.array([[ 1.0,-1.0, 0.0, 0.0,-1.0, 0.0],\n",
    "              [ 0.0, 1.0,-1.0,-1.0, 0.0, 0.0],\n",
    "              [ 0.0, 0.0, 0.0, 1.0, 1.0,-1.0],\n",
    "              [ 0.0, 0.0, 0.0, 0.0, 1.0, 2.0],\n",
    "              [ 0.0, 2.0, 0.0, 2.0,-1.0, 0.0],\n",
    "              [ 0.0, 0.0, 1.0,-2.0, 0.0,-2.0]])\n",
    "b = np.array([0, 0, 0, 10, 0, 0])\n",
    "S = sparse.csc_matrix(A)\n",
    "I = linalg.spsolve(S,b)\n",
    "print('I =', I)"
   ]
  }
 ],
 "metadata": {
  "kernelspec": {
   "display_name": "Python 3 (ipykernel)",
   "language": "python",
   "name": "python3"
  },
  "language_info": {
   "codemirror_mode": {
    "name": "ipython",
    "version": 3
   },
   "file_extension": ".py",
   "mimetype": "text/x-python",
   "name": "python",
   "nbconvert_exporter": "python",
   "pygments_lexer": "ipython3",
   "version": "3.10.9"
  }
 },
 "nbformat": 4,
 "nbformat_minor": 2
}

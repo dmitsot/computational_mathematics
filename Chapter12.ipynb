{
 "cells": [
  {
   "cell_type": "markdown",
   "metadata": {},
   "source": [
    "# Computational Mathematics\n",
    "## An Introduction to Numerical Analysis and Scientific Computing with Python\n",
    "### By Dimitrios Mitsotakis"
   ]
  },
  {
   "cell_type": "markdown",
   "metadata": {},
   "source": [
    "# Chapter 12: Eigenvalue Problems"
   ]
  },
  {
   "cell_type": "markdown",
   "metadata": {},
   "source": [
    "Here we introduce a few methods for the approximation of eigenvalues (and eigenvectors) of matrices"
   ]
  },
  {
   "cell_type": "markdown",
   "metadata": {},
   "source": [
    "## Power Method"
   ]
  },
  {
   "cell_type": "markdown",
   "metadata": {},
   "source": [
    "The power method finds the largest in magnitude eigenvalue of a matrix ${\\bf A}$ and works only if the maximum in magnitude eigenvalue is simple: \n",
    "$|\\lambda_1|>|\\lambda_2|\\geq \\cdots \\geq |\\lambda_N|$\n",
    "\n",
    "The corresponding eigenvector of the power method can be approximated by the iteration\n",
    "$${\\bf x}^{(k+1)}={\\bf A}{\\bf x}^{(k)}$$\n",
    "while the eigenvalue is \n",
    "$\\lambda_1\\approx x^{(k+1)}_j/x^{(k)}_j$ where $j=argmax({\\bf x}^{(k)})$.\n",
    "\n",
    "The Power method can be expressed with the following algorithm:\n",
    "\n",
    "- Set a tolerance $TOL$ for the accuracy\n",
    "- Set the maximum number of iterations $MAXIT$\n",
    "- Initialize the vector ${\\bf x}^{(k)}\\not={\\bf 0}$ and the eigenvalue $\\lambda_1=0$, and set $k=0$\n",
    "- Set $Error = TOL+1$\n",
    "- Compute $j=argmax_j(x^{(k)}_j)$\n",
    "- While $Error>TOL$ and $k<MAXIT$\n",
    "    - Compute new ${\\bf x}^{(k+1)}={\\bf A} {\\bf x}^{(k)}$\n",
    "    - Set $\\lambda_0=x^{(k+1)}_j/x^{(k)}_j$\n",
    "    - Set $Error = |\\lambda_1-\\lambda_0|$\n",
    "    - Increase the counter $k=k+1$\n",
    "    - Set $\\lambda_1=\\lambda_0$\n",
    "- EndWhile\n",
    "- Return the approximate eigenvalue $\\lambda_1$ and the eigenvector\n",
    "${\\bf u}_1=({\\bf x}^{(k)}/\\lambda_1^k)/\\|{\\bf x}^{(k)}/\\lambda_1^k\\|$\n",
    "\n",
    "and its implementation is the following"
   ]
  },
  {
   "cell_type": "code",
   "execution_count": 8,
   "metadata": {},
   "outputs": [],
   "source": [
    "def powerMethod(A, x0, tol = 1.e-6, maxit = 100):\n",
    "    # initialize the parameters\n",
    "    iteration = 0\n",
    "    error = tol+1.0\n",
    "    lambda0 = 0.0\n",
    "    # find the index for the maximum entry\n",
    "    j = np.argmax(x0)\n",
    "    while (error > tol and iteration < maxit):\n",
    "        x1 = np.dot(A,x0)\n",
    "        # find the approximation of the eigenvalue\n",
    "        lambda1 = x1[j]/x0[j]\n",
    "        error = np.abs(lambda0-lambda1)\n",
    "        iteration = iteration + 1\n",
    "        lambda0 = lambda1\n",
    "        x0 = x1.copy()\n",
    "    k = iteration\n",
    "    u1 = (x1/lambda1**k)/npl.norm(x1/lambda1**k,np.inf)\n",
    "    print('number of iterations required = ',iteration)\n",
    "    # return eigenvalue and corresponding eigenvector\n",
    "    return lambda1, u1"
   ]
  },
  {
   "cell_type": "markdown",
   "metadata": {},
   "source": [
    "As testing example we consider the matrix\n",
    "$$\n",
    "{\\bf A}=\\begin{pmatrix}\n",
    "-2 & -4 & 2\\\\\n",
    "-2 & 1 & 2\\\\\n",
    "4 & 2 & 5\n",
    "\\end{pmatrix}\n",
    "$$\n",
    "with spectrum $\\sigma({\\bf A})=\\{-5,3,6\\}$"
   ]
  },
  {
   "cell_type": "code",
   "execution_count": 7,
   "metadata": {},
   "outputs": [
    {
     "name": "stdout",
     "output_type": "stream",
     "text": [
      "number of iterations required =  158\n",
      "6.0000000000407345\n",
      "[0.0625 0.375  1.    ]\n",
      "actual error =  4.3158870502569533e-11\n"
     ]
    }
   ],
   "source": [
    "import numpy as np\n",
    "import numpy.linalg as npl\n",
    "\n",
    "# define matrix and initial guess x0\n",
    "A = np.array([[-2.,-4.,2.],[-2.,1.,2.],[4.,2.,5.]])\n",
    "x0 = np.array([1,1,1])\n",
    "# compute eigenvalue and eigenvector\n",
    "lambda1,u1 = powerMethod(A,x0, tol=1.e-10, maxit=1000)\n",
    "# print eigenvalue and eigenvector\n",
    "print(lambda1)\n",
    "print(u1)\n",
    "# compute and print the residual $\\|\\bA \\bu_1-\\lambda_1\\bu_1\\|$\n",
    "error =  npl.norm(np.dot(A,u1) - lambda1*u1)\n",
    "print('actual error = ', error)"
   ]
  },
  {
   "cell_type": "markdown",
   "metadata": {},
   "source": [
    "## Inverse Power Method"
   ]
  },
  {
   "cell_type": "markdown",
   "metadata": {},
   "source": [
    "To find the smallest in magnitude eigenvalue we can use the Power method applied to the matrix ${\\bf A}^{-1}$. Then the eigenvalue of ${\\bf A}$ with the smallest magnitude will be the $1/\\lambda_1$ where $\\lambda_1$ the maximum in magnitude eigenvalue of ${\\bf A}^{-1}$. Because we cannot compute the inverse of ${\\bf A}$ that easily we solve the system\n",
    "$${\\bf A}{\\bf x}^{(k+1)}={\\bf x}^{(k)}$$ \n",
    "to compute the corresponding eigenvector.\n",
    "\n",
    "This technique is known to as the inverse power method.\n",
    "\n",
    "The inverse power method can be implemented as follows:"
   ]
  },
  {
   "cell_type": "code",
   "execution_count": 11,
   "metadata": {},
   "outputs": [],
   "source": [
    "import scipy.linalg as spl\n",
    "def inversePowerMethod(A, x0, tol = 1.e-6, maxit = 100):\n",
    "    # initialize the parameters\n",
    "    iteration = 0\n",
    "    error = tol+1.0\n",
    "    lambda0 = 0.0\n",
    "    lu, piv = spl.lu_factor(A)\n",
    "    # find the index for the maximum entry\n",
    "    j = np.argmax(x0)\n",
    "    while (error > tol and iteration < maxit):\n",
    "        x1 = spl.lu_solve((lu, piv), x0)\n",
    "        # find the approximation of the eigenvalue\n",
    "        lambda1 = x1[j]/x0[j]\n",
    "        error = np.abs(lambda0-lambda1)\n",
    "        iteration = iteration + 1\n",
    "        lambda0 = lambda1\n",
    "        x0 = x1.copy()\n",
    "    k = iteration\n",
    "    u1 = (x1/lambda1**k)/npl.norm(x1/lambda1**k,np.inf)\n",
    "    print('number of iterations required = ',iteration)\n",
    "    # return eigenvalue and corresponding eigenvector\n",
    "    return 1/lambda1, u1 "
   ]
  },
  {
   "cell_type": "markdown",
   "metadata": {},
   "source": [
    "Then the minimum in magnitude eigenvalue of the previous example can be approximated using the following code"
   ]
  },
  {
   "cell_type": "code",
   "execution_count": 12,
   "metadata": {},
   "outputs": [
    {
     "name": "stdout",
     "output_type": "stream",
     "text": [
      "number of iterations required =  44\n",
      "3.0000000002520206\n"
     ]
    }
   ],
   "source": [
    "A = np.array([[-2.,-4.,2.],[-2.,1.,2.],[4.,2.,5.]])\n",
    "x0 = np.array([-1,1,1])\n",
    "lambda1,u1 = inversePowerMethod(A,x0, tol=1.e-10, maxit=1000)\n",
    "print(lambda1)"
   ]
  },
  {
   "cell_type": "markdown",
   "metadata": {},
   "source": [
    "Other eigenvalues can be computed using the shifted inverse power method. But instead we consider the $QR$ iteration, which can approximate all the eigenvalues at once."
   ]
  },
  {
   "cell_type": "markdown",
   "metadata": {},
   "source": [
    "## Basic $QR$ Iteration"
   ]
  },
  {
   "cell_type": "markdown",
   "metadata": {},
   "source": [
    "The basic $QR$ iteration starts with a matrix \n",
    "$${\\bf T}^{(0)}={\\bf A}$$\n",
    "Then for $k=0,1,\\dots$\n",
    "we compute its $QR$ factorization \n",
    "$${\\bf Q}^{(k)}{\\bf R}^{(k)}=T^{(k)}$$\n",
    "and we compute the matrix\n",
    "$$T^{(k+1)}={\\bf R}^{(k+1)}{\\bf Q}^{(k+1)}$$\n",
    "\n",
    "The matrix ${\\bf T}^{(k)}$ tends to become diagonal with the eigenvalues of ${\\bf A}$ in its main diagonal.\n",
    "\n",
    "The implementation of the basic $QR$ iteration can be as follows:"
   ]
  },
  {
   "cell_type": "code",
   "execution_count": 13,
   "metadata": {},
   "outputs": [],
   "source": [
    "def basicQRiteration(A, tol = 1.e-6, maxit = 100):\n",
    "    # initialize the parameters\n",
    "    iteration = 0\n",
    "    error = tol+1.0\n",
    "    T = A.copy()\n",
    "    #set first approximation of eigenvalues\n",
    "    eigs = np.diag(T)\n",
    "    while (error > tol and iteration < maxit):\n",
    "        #extract the diagonal entries of T\n",
    "        eig0=eigs\n",
    "        Q, R = npl.qr(T)\n",
    "        T = np.dot(R,Q)\n",
    "        #extract the new diagonal entries\n",
    "        eigs = np.diag(T)\n",
    "        error = npl.norm(eigs-eig0)\n",
    "        iteration = iteration + 1\n",
    "    print('number of iterations required = ',iteration)\n",
    "    # return eigenvalue and corresponding eigenvector\n",
    "    return eigs"
   ]
  },
  {
   "cell_type": "markdown",
   "metadata": {},
   "source": [
    "Testing this function to our previous example we find"
   ]
  },
  {
   "cell_type": "code",
   "execution_count": 14,
   "metadata": {},
   "outputs": [
    {
     "name": "stdout",
     "output_type": "stream",
     "text": [
      "number of iterations required =  89\n",
      "[ 5.99999972 -4.99999972  3.        ]\n"
     ]
    }
   ],
   "source": [
    "A = np.array([[-2.,-4.,2.],[-2.,1.,2.],[4.,2.,5.]])\n",
    "eigs = basicQRiteration(A, tol = 1.e-6, maxit = 100)\n",
    "print(eigs)"
   ]
  },
  {
   "cell_type": "markdown",
   "metadata": {},
   "source": [
    "## Application in Computer Networks"
   ]
  },
  {
   "cell_type": "markdown",
   "metadata": {},
   "source": [
    "Here we consider a set of webpages where the following number of departing links per node\n",
    "$$\n",
    "\\begin{array}{ccccccccccc}\n",
    "i & 1 & 2 & 3 & 4 & 5 & 6 & 7 & 8 & 9 & 10 \\\\\n",
    "d_1 & 3 & 2 & 3 & 2 & 4 & 2 & 2 & 2 & 2 & 3\n",
    "\\end{array}\n",
    "$$\n",
    "\n",
    "This leds to the system ${\\bf r}={\\bf G}{\\bf r}$\n",
    "where \n",
    "$${\\bf G}=\\begin{pmatrix}\n",
    "0 & 0 & 0 & 0 & 1/4 & 0 & 0 & 0 & 0 & 0\\\\\n",
    "1/3 & 0 & 1/3 & 0 & 0 & 0 & 0 & 0 & 0 & 0\\\\\n",
    "0 & 1/2 & 0 & 0 & 0 & 0 & 0 & 0 & 0 & 0\\\\\n",
    "1/3 & 1/2 & 1/3 & 0 & 1/4 & 0 & 0 & 0 & 0 & 0\\\\\n",
    "1/3 & 0 & 0 & 1/2 & 0 & 1/2 & 0 & 0 & 1/2 & 0\\\\\n",
    "0 & 0 & 0 & 1/2 & 1/4 & 0 & 0 & 1/2 & 0 & 0\\\\\n",
    "0 & 0 & 1/3 & 0 & 0 & 1/2 & 0 & 0 & 0 & 1/3\\\\\n",
    "0 & 0 & 0 & 0 & 0 & 0 & 1/2 & 0 & 1/2 & 1/3\\\\\n",
    "0 & 0 & 0 & 0 & 1/4 & 0 & 0 & 1/2 & 0 & 1/3\\\\\n",
    "0 & 0 & 0 & 0 & 0 & 0 & 1/2 & 0 & 0 & 0\\\\\n",
    "\\end{pmatrix}$$\n",
    "is the stochastic Google matrix\n",
    "and ${\\bf r}$ the importance vector of each webpage. We compute the importance vector as an principal eigenvector of $\\bf G$ as follows:"
   ]
  },
  {
   "cell_type": "code",
   "execution_count": 17,
   "metadata": {},
   "outputs": [
    {
     "name": "stdout",
     "output_type": "stream",
     "text": [
      "number of iterations required =  52\n",
      "[0.05417957 0.02167183 0.01083591 0.08668731 0.21671827 0.16821465\n",
      " 0.10526316 0.14138287 0.14241486 0.05263158]\n"
     ]
    }
   ],
   "source": [
    "A = np.array([[0,0,0,0,1/4,0,0,0,0,0],\n",
    "              [1/3,0,1/3,0,0,0,0,0,0,0],\n",
    "              [0,1/2,0,0,0,0,0,0,0,0],\n",
    "              [1/3,1/2,1/3,0,1/4,0,0,0,0,0],\n",
    "              [1/3,0,0,1/2,0,1/2,0,0,1/2,0],\n",
    "              [0,0,0,1/2,1/4,0,0,1/2,0,0],\n",
    "              [0,0,1/3,0,0,1/2,0,0,0,1/3],\n",
    "              [0,0,0,0,0,0,1/2,0,1/2,1/3],\n",
    "              [0,0,0,0,1/4,0,0,1/2,0,1/3],\n",
    "              [0,0,0,0,0,0,1/2,0,0,0]] )\n",
    "x0 = np.ones(10)/10.0\n",
    "lambda1,u1 = powerMethod(A,x0, tol=1.e-10, maxit=1000)\n",
    "r1 = u1/npl.norm(u1,1)\n",
    "print(r1)"
   ]
  }
 ],
 "metadata": {
  "kernelspec": {
   "display_name": "Python 3 (ipykernel)",
   "language": "python",
   "name": "python3"
  },
  "language_info": {
   "codemirror_mode": {
    "name": "ipython",
    "version": 3
   },
   "file_extension": ".py",
   "mimetype": "text/x-python",
   "name": "python",
   "nbconvert_exporter": "python",
   "pygments_lexer": "ipython3",
   "version": "3.10.9"
  }
 },
 "nbformat": 4,
 "nbformat_minor": 2
}

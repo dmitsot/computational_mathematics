{
 "cells": [
  {
   "cell_type": "markdown",
   "metadata": {},
   "source": [
    "# Computational Mathematics\n",
    "## An Introduction to Numerical Analysis and Scientific Computing with Python\n",
    "### By Dimitrios Mitsotakis"
   ]
  },
  {
   "cell_type": "markdown",
   "metadata": {},
   "source": [
    "# Chapter 1: Introduction to Python"
   ]
  },
  {
   "cell_type": "markdown",
   "metadata": {},
   "source": [
    "## Basic Python"
   ]
  },
  {
   "cell_type": "markdown",
   "metadata": {},
   "source": [
    "Python plays the role of an instant interpreter between the programmer and the computer. The programmer gives commands to the computer via the Python language. Python commands give directions to the computer system on how to perform operations. \n",
    "\n",
    "The most commonly used first example in programming is to display the phrase `Hello world!` on the screen of the computer. This can be done easily by typing `print('Hello world!')` in our Jupyter notebook and then pressing `shift+return` (or `shift+enter` on some keyboards). \n",
    "\n",
    "For example, we can type the following command:"
   ]
  },
  {
   "cell_type": "code",
   "execution_count": 1,
   "metadata": {},
   "outputs": [
    {
     "name": "stdout",
     "output_type": "stream",
     "text": [
      "Hello world!\n"
     ]
    }
   ],
   "source": [
    "print('Hello world!')"
   ]
  },
  {
   "cell_type": "markdown",
   "metadata": {},
   "source": [
    "### Numbers and basic mathematical operations"
   ]
  },
  {
   "cell_type": "markdown",
   "metadata": {},
   "source": [
    "Python can also be used as a calculator to perform basic operations. The basic arithmetic operations in Python are addition `+`, subtraction `-`, multiplication `*`, division `/`, and exponentiation `**`. \n",
    "\n",
    "The priority of the operations follows the same rules as in real arithmetic, and we can use brackets to change the regular priority of the operations.\n",
    "\n",
    "Try the following examples:\n"
   ]
  },
  {
   "cell_type": "code",
   "execution_count": 2,
   "metadata": {},
   "outputs": [
    {
     "name": "stdout",
     "output_type": "stream",
     "text": [
      "add =  13\n",
      "sub =  9\n",
      "mul =  22\n",
      "div1 =  5.5\n",
      "div2 =  5\n",
      "mod =  1\n",
      "pow =  121\n"
     ]
    }
   ],
   "source": [
    "# Examples of Arithmetic Operators \n",
    "x = 11\n",
    "y = 2\n",
    "# Addition of numbers \n",
    "add = x + y \n",
    "# Subtraction of numbers  \n",
    "sub = x - y\n",
    "# Multiplication of numbers  \n",
    "mul = x * y \n",
    "# Division (float) of numbers  \n",
    "div1 = x / y\n",
    "# Division (floor) of numbers\n",
    "div2 = x // y\n",
    "# Modulo of both numbers \n",
    "mod = x % y \n",
    "# Raise to power\n",
    "pow = x ** y\n",
    "# print results \n",
    "print( 'add = ', add ) \n",
    "print( 'sub = ', sub ) \n",
    "print( 'mul = ', mul ) \n",
    "print( 'div1 = ', div1 ) \n",
    "print( 'div2 = ', div2 ) \n",
    "print( 'mod = ', mod ) \n",
    "print( 'pow = ', pow ) "
   ]
  },
  {
   "cell_type": "markdown",
   "metadata": {},
   "source": [
    "### Variables\n",
    "\n",
    "We can assign values to variables and store these values in the computer memory. These values can be used later by simply using the name of the variable. It's important to note that you don't need to specify the type of the variable in Python."
   ]
  },
  {
   "cell_type": "code",
   "execution_count": 3,
   "metadata": {},
   "outputs": [
    {
     "name": "stdout",
     "output_type": "stream",
     "text": [
      "2\n"
     ]
    }
   ],
   "source": [
    "x = 2\n",
    "print( x )"
   ]
  },
  {
   "cell_type": "markdown",
   "metadata": {},
   "source": [
    "Assume we have 50 students"
   ]
  },
  {
   "cell_type": "code",
   "execution_count": 4,
   "metadata": {},
   "outputs": [],
   "source": [
    "number_of_students = 50"
   ]
  },
  {
   "cell_type": "markdown",
   "metadata": {},
   "source": [
    "5 students left the classroom. The remaining students are"
   ]
  },
  {
   "cell_type": "code",
   "execution_count": 5,
   "metadata": {},
   "outputs": [
    {
     "name": "stdout",
     "output_type": "stream",
     "text": [
      "45\n"
     ]
    }
   ],
   "source": [
    "number_of_students = number_of_students - 5\n",
    "\n",
    "print( number_of_students )"
   ]
  },
  {
   "cell_type": "markdown",
   "metadata": {},
   "source": [
    "Note that we used integer values as it makes sense for the particular example and that they remain integer."
   ]
  },
  {
   "cell_type": "code",
   "execution_count": 6,
   "metadata": {},
   "outputs": [
    {
     "name": "stdout",
     "output_type": "stream",
     "text": [
      "12\n"
     ]
    }
   ],
   "source": [
    "a = 10\n",
    "b = a + 2\n",
    "print(b)"
   ]
  },
  {
   "cell_type": "code",
   "execution_count": 7,
   "metadata": {},
   "outputs": [
    {
     "name": "stdout",
     "output_type": "stream",
     "text": [
      "7 9 12\n"
     ]
    }
   ],
   "source": [
    "a = 1 + 2 * 3; b = (1 + 2) * 3; c = 2**2 * 3\n",
    "print(a,b,c)"
   ]
  },
  {
   "cell_type": "markdown",
   "metadata": {},
   "source": [
    "### Mathematical functions and constants\n",
    "\n",
    "To use mathematical functions such as `sqrt` and `sin` we need to `import` appropriate libraries called modules so that we have access to these functions.  Here is an example where we use Python's builtin `math` module:"
   ]
  },
  {
   "cell_type": "code",
   "execution_count": 8,
   "metadata": {},
   "outputs": [],
   "source": [
    "import math"
   ]
  },
  {
   "cell_type": "code",
   "execution_count": 9,
   "metadata": {},
   "outputs": [
    {
     "data": {
      "text/plain": [
       "2.0"
      ]
     },
     "execution_count": 9,
     "metadata": {},
     "output_type": "execute_result"
    }
   ],
   "source": [
    "math.sqrt(4)"
   ]
  },
  {
   "cell_type": "markdown",
   "metadata": {},
   "source": [
    "To avoid writing the whole name of a module we create aliases. For example, instead of `math` we will use the alias `mt`"
   ]
  },
  {
   "cell_type": "code",
   "execution_count": 10,
   "metadata": {},
   "outputs": [],
   "source": [
    "import math as mt"
   ]
  },
  {
   "cell_type": "code",
   "execution_count": 11,
   "metadata": {},
   "outputs": [
    {
     "data": {
      "text/plain": [
       "0.5877852522924731"
      ]
     },
     "execution_count": 11,
     "metadata": {},
     "output_type": "execute_result"
    }
   ],
   "source": [
    "mt.sin(math.pi / 5.0)"
   ]
  },
  {
   "cell_type": "code",
   "execution_count": 12,
   "metadata": {},
   "outputs": [
    {
     "name": "stdout",
     "output_type": "stream",
     "text": [
      "3.141592653589793\n",
      "3.141592653589793\n"
     ]
    }
   ],
   "source": [
    "print(mt.pi)\n",
    "\n",
    "print(4.0*mt.atan(1.0))"
   ]
  },
  {
   "cell_type": "markdown",
   "metadata": {},
   "source": [
    "Note that in order to access these functions we need to add the `math.` before the function names and the constant $\\pi$.  We can avoid writing the name of the module every time we need an object from it by importing all the contents of `math` module in our code by writing:"
   ]
  },
  {
   "cell_type": "code",
   "execution_count": 13,
   "metadata": {},
   "outputs": [
    {
     "data": {
      "text/plain": [
       "1.0"
      ]
     },
     "execution_count": 13,
     "metadata": {},
     "output_type": "execute_result"
    }
   ],
   "source": [
    "from math import *\n",
    "sin(pi / 2.0)"
   ]
  },
  {
   "cell_type": "markdown",
   "metadata": {},
   "source": [
    "Note that many of these functions return a `float` number regardless of their input."
   ]
  },
  {
   "cell_type": "markdown",
   "metadata": {},
   "source": [
    "> In general the usage of the command `from math import *` is not recommended as it might cause confusion. There are functions with the same name in different modules. For example there is 'sqrt' function in both 'math' and 'numpy' modules. In this course we will use it only for the shake of simplicity."
   ]
  },
  {
   "cell_type": "markdown",
   "metadata": {},
   "source": [
    "We present an alternative way for the computation of $\\pi$ based on the formula\n",
    "$$\\pi=4\\tan^{-1}(1)$$"
   ]
  },
  {
   "cell_type": "code",
   "execution_count": 14,
   "metadata": {},
   "outputs": [
    {
     "name": "stdout",
     "output_type": "stream",
     "text": [
      "3.141592653589793\n",
      "0.0\n"
     ]
    }
   ],
   "source": [
    "myPi = 4.0*mt.atan(1.0)\n",
    "print(myPi)\n",
    "print(myPi-mt.pi)"
   ]
  },
  {
   "cell_type": "markdown",
   "metadata": {},
   "source": [
    "### Powers of 10 and scientific notation"
   ]
  },
  {
   "cell_type": "markdown",
   "metadata": {},
   "source": [
    "When we want to write a number $a\\times 10^b$ in scientific notation we write `a e b`, so the number $1.5\\times 10^{-2}$ can be written as `1.5e-2`. Another example is $2\\times 10^{9}$. In this case, because there are no decimal digits we can write `2.e9`.\n",
    "\n",
    "It is worth mentioning that floating point numbers that are very small, such as `1.e-15` or less can be thought of good approximations of $0$ when working with scales of order of 1 or greater. In order to see this, perform the following peculiar calculation in Python:"
   ]
  },
  {
   "cell_type": "code",
   "execution_count": 15,
   "metadata": {},
   "outputs": [
    {
     "name": "stdout",
     "output_type": "stream",
     "text": [
      "1.0\n"
     ]
    }
   ],
   "source": [
    "print(1.0+1.e-16)"
   ]
  },
  {
   "cell_type": "markdown",
   "metadata": {},
   "source": [
    "## Strings, tuples and lists"
   ]
  },
  {
   "cell_type": "markdown",
   "metadata": {},
   "source": [
    "### Strings\n",
    "\n",
    " string (or alpharithmetic) is a sequence of characters (letters, numbers and symbols) enclosed in single or double quotes"
   ]
  },
  {
   "cell_type": "code",
   "execution_count": 16,
   "metadata": {},
   "outputs": [
    {
     "name": "stdout",
     "output_type": "stream",
     "text": [
      "James\n"
     ]
    }
   ],
   "source": [
    "x = 'James'\n",
    "\n",
    "print(x)"
   ]
  },
  {
   "cell_type": "markdown",
   "metadata": {},
   "source": [
    "### Tuples"
   ]
  },
  {
   "cell_type": "markdown",
   "metadata": {},
   "source": [
    "A tuple is a sequence of (not necessarily same) objects separated with commas and enclosed in brackets. For example `x=(2,'Hi')` the members of the tuple `x` is the integer `2` and the string `Hi`. We can access the first entry by typing `x[0]` and the second entry by typing `x[1]` without forgetting that we always start counting from 0. "
   ]
  },
  {
   "cell_type": "code",
   "execution_count": 17,
   "metadata": {},
   "outputs": [
    {
     "name": "stdout",
     "output_type": "stream",
     "text": [
      "2\n",
      "Hi\n"
     ]
    }
   ],
   "source": [
    "x = (2,'Hi')\n",
    "\n",
    "print(x[0])\n",
    "\n",
    "print(x[1])"
   ]
  },
  {
   "cell_type": "markdown",
   "metadata": {},
   "source": [
    "### Lists\n",
    "\n",
    "One of the most useful data structures in Python is the `list`."
   ]
  },
  {
   "cell_type": "code",
   "execution_count": 18,
   "metadata": {},
   "outputs": [],
   "source": [
    "grades = [9.0, 6.7, 8.5, 7.6, 9,8, 7.0]"
   ]
  },
  {
   "cell_type": "markdown",
   "metadata": {},
   "source": [
    "Lists are defined with square brackets and the numbers are separated by commas.  Note that there is another data type called `sequences` denoted by `( )` that cannot be changed once they are created.  Lets try to do some list manipulations with our list of grades."
   ]
  },
  {
   "cell_type": "markdown",
   "metadata": {},
   "source": [
    "Access a single value in a list:"
   ]
  },
  {
   "cell_type": "code",
   "execution_count": 19,
   "metadata": {},
   "outputs": [
    {
     "data": {
      "text/plain": [
       "7.6"
      ]
     },
     "execution_count": 19,
     "metadata": {},
     "output_type": "execute_result"
    }
   ],
   "source": [
    "grades[3]"
   ]
  },
  {
   "cell_type": "markdown",
   "metadata": {},
   "source": [
    "<span style='color:Red'> Note that in Python we start counting from 0 and so all indices start from 0, i.e. the first value in the list is accessed by `a[0]`.  </span>\n",
    "\n",
    "<span style='color:Blue'> Indices in mathematical algorithms quite often start from 1. For example the entries of vector $e$ are denoted as $e_1$, $e_2$ etc. These kind of indices we will call them natural. Indices starting from 0 will be called Python indices. </span>"
   ]
  },
  {
   "cell_type": "code",
   "execution_count": 20,
   "metadata": {},
   "outputs": [
    {
     "data": {
      "text/plain": [
       "list[-1]"
      ]
     },
     "execution_count": 20,
     "metadata": {},
     "output_type": "execute_result"
    }
   ],
   "source": [
    "list[-1]"
   ]
  },
  {
   "cell_type": "markdown",
   "metadata": {},
   "source": [
    "Find the length of a list"
   ]
  },
  {
   "cell_type": "code",
   "execution_count": 21,
   "metadata": {},
   "outputs": [
    {
     "data": {
      "text/plain": [
       "7"
      ]
     },
     "execution_count": 21,
     "metadata": {},
     "output_type": "execute_result"
    }
   ],
   "source": [
    "len(grades)"
   ]
  },
  {
   "cell_type": "markdown",
   "metadata": {},
   "source": [
    "Add values to a list"
   ]
  },
  {
   "cell_type": "code",
   "execution_count": 22,
   "metadata": {},
   "outputs": [
    {
     "name": "stdout",
     "output_type": "stream",
     "text": [
      "[9.0, 6.7, 8.5, 7.6, 9, 8, 7.0, 6.2, 8.2, 5.9]\n"
     ]
    }
   ],
   "source": [
    "grades = grades + [6.2, 8.2, 5.9]\n",
    "print(grades)"
   ]
  },
  {
   "cell_type": "markdown",
   "metadata": {},
   "source": [
    "Slicing is another important operation"
   ]
  },
  {
   "cell_type": "code",
   "execution_count": 23,
   "metadata": {},
   "outputs": [
    {
     "data": {
      "text/plain": [
       "[8.5, 7.6, 9]"
      ]
     },
     "execution_count": 23,
     "metadata": {},
     "output_type": "execute_result"
    }
   ],
   "source": [
    "grades[2:5]"
   ]
  },
  {
   "cell_type": "code",
   "execution_count": 24,
   "metadata": {},
   "outputs": [
    {
     "data": {
      "text/plain": [
       "[9.0, 6.7, 8.5, 7.6]"
      ]
     },
     "execution_count": 24,
     "metadata": {},
     "output_type": "execute_result"
    }
   ],
   "source": [
    "grades[0:4]"
   ]
  },
  {
   "cell_type": "code",
   "execution_count": 25,
   "metadata": {},
   "outputs": [
    {
     "data": {
      "text/plain": [
       "[9.0, 6.7, 8.5, 7.6]"
      ]
     },
     "execution_count": 25,
     "metadata": {},
     "output_type": "execute_result"
    }
   ],
   "source": [
    "grades[:4]"
   ]
  },
  {
   "cell_type": "code",
   "execution_count": 26,
   "metadata": {},
   "outputs": [
    {
     "data": {
      "text/plain": [
       "[9, 8, 7.0, 6.2, 8.2, 5.9]"
      ]
     },
     "execution_count": 26,
     "metadata": {},
     "output_type": "execute_result"
    }
   ],
   "source": [
    "grades[4:]"
   ]
  },
  {
   "cell_type": "markdown",
   "metadata": {},
   "source": [
    "Note that the range of values does not include the last indexed! This is important to remember for more than lists but we will get to that later."
   ]
  },
  {
   "cell_type": "code",
   "execution_count": 27,
   "metadata": {},
   "outputs": [
    {
     "data": {
      "text/plain": [
       "[9, 8, 7.0, 6.2, 8.2, 5.9]"
      ]
     },
     "execution_count": 27,
     "metadata": {},
     "output_type": "execute_result"
    }
   ],
   "source": [
    "grades[4:11]"
   ]
  },
  {
   "cell_type": "markdown",
   "metadata": {},
   "source": [
    "Another property of lists is that you can put different types in them at the same time.  This can be important to remember if you  have both `int` and `float` types."
   ]
  },
  {
   "cell_type": "code",
   "execution_count": 28,
   "metadata": {},
   "outputs": [],
   "source": [
    "mylist = [1, 2, 3.0]"
   ]
  },
  {
   "cell_type": "code",
   "execution_count": 29,
   "metadata": {},
   "outputs": [
    {
     "name": "stdout",
     "output_type": "stream",
     "text": [
      "1\n"
     ]
    }
   ],
   "source": [
    "print(mylist[0])"
   ]
  },
  {
   "cell_type": "code",
   "execution_count": 30,
   "metadata": {},
   "outputs": [
    {
     "data": {
      "text/plain": [
       "2.0"
      ]
     },
     "execution_count": 30,
     "metadata": {},
     "output_type": "execute_result"
    }
   ],
   "source": [
    "mylist[1] / 1"
   ]
  },
  {
   "cell_type": "code",
   "execution_count": 31,
   "metadata": {},
   "outputs": [
    {
     "data": {
      "text/plain": [
       "3.0"
      ]
     },
     "execution_count": 31,
     "metadata": {},
     "output_type": "execute_result"
    }
   ],
   "source": [
    "mylist[2] / 1"
   ]
  },
  {
   "cell_type": "markdown",
   "metadata": {},
   "source": [
    "Copying one list variable to a new one needs some attention"
   ]
  },
  {
   "cell_type": "code",
   "execution_count": 32,
   "metadata": {},
   "outputs": [
    {
     "name": "stdout",
     "output_type": "stream",
     "text": [
      "[9, 10, 8, 7, 9, 7]\n",
      "[9, 10, 8, 7, 9, 7]\n"
     ]
    }
   ],
   "source": [
    "list2 = [9, 6, 8, 7, 9, 7]\n",
    "list1 = list2\n",
    "list2[1] = 10\n",
    "print(list1)\n",
    "print(list2)"
   ]
  },
  {
   "cell_type": "markdown",
   "metadata": {},
   "source": [
    "To create an unrelated copy of `list2` to `list1` we need to type"
   ]
  },
  {
   "cell_type": "code",
   "execution_count": 33,
   "metadata": {},
   "outputs": [
    {
     "name": "stdout",
     "output_type": "stream",
     "text": [
      "[9, 6, 8, 7, 9, 7]\n",
      "[9, 10, 8, 7, 9, 7]\n"
     ]
    }
   ],
   "source": [
    "list2 = [9, 6, 8, 7, 9, 7]\n",
    "list1 = list2[:]\n",
    "list2[1] = 10\n",
    "print(list1)\n",
    "print(list2)"
   ]
  },
  {
   "cell_type": "markdown",
   "metadata": {},
   "source": [
    "### Lists of lists"
   ]
  },
  {
   "cell_type": "markdown",
   "metadata": {},
   "source": [
    "A matrix in Python is a list of lists. Each entry of the list (matrix) is a list that represents a row of the matrix. In other words a matrix in Python is a list with entries the rows of the matrix. For example the matrix \n",
    "$$A=\\begin{pmatrix}\n",
    "1 & 2 \\\\\n",
    "3 & 4\n",
    "\\end{pmatrix}\\ ,$$\n",
    "is represented in Python as `A = [[1,2],[3,4]]`.\n"
   ]
  },
  {
   "cell_type": "code",
   "execution_count": 34,
   "metadata": {},
   "outputs": [
    {
     "name": "stdout",
     "output_type": "stream",
     "text": [
      "[[1, 2], [3, 4]]\n"
     ]
    }
   ],
   "source": [
    "A = [[1,2],[3,4]]\n",
    "\n",
    "print(A)"
   ]
  },
  {
   "cell_type": "markdown",
   "metadata": {},
   "source": [
    "In linear algebra we usually refer to the entries $a_{ij}$ of the matrix $A$ using indices $i=1,2,\\cdots$ and $j=1,2,\\cdots$. In the previous example the entry $a_{11}=1$ and the entry $a_{12}=2$. The indices in Python start from 0 though. This means that in order to access the entry $a_{12}$ of the matrix $A$ we need to access the entry of the Pythonic matrix located at the 0th row and 1st column, indicating the row and the column in square brackets by typing `A[0][1]`. "
   ]
  },
  {
   "cell_type": "code",
   "execution_count": 35,
   "metadata": {},
   "outputs": [
    {
     "data": {
      "text/plain": [
       "2"
      ]
     },
     "execution_count": 35,
     "metadata": {},
     "output_type": "execute_result"
    }
   ],
   "source": [
    "A[0][1]"
   ]
  },
  {
   "cell_type": "markdown",
   "metadata": {},
   "source": [
    "## Flow control"
   ]
  },
  {
   "cell_type": "markdown",
   "metadata": {},
   "source": [
    "### `for` loops\n",
    "\n",
    "The `for` statements provide the most common type of loops in Python.\n",
    "\n",
    "A `for` loop starts with the word `for` followed by a variable that takes the values we want in a specific order and then by the slicing operator \"`:`\". This indicates that whatever follows the slicing operator, and begins with a tab (4 spaces) will be executed every time the loop is executed.\n",
    "\n",
    "\n",
    "In the first example we print repeatedly the string `Hello world!`"
   ]
  },
  {
   "cell_type": "code",
   "execution_count": 36,
   "metadata": {},
   "outputs": [
    {
     "name": "stdout",
     "output_type": "stream",
     "text": [
      "Hello world!\n",
      "Hello world!\n",
      "Hello world!\n"
     ]
    }
   ],
   "source": [
    "for i in [0, 1, 2]:\n",
    "    print('Hello world!')"
   ]
  },
  {
   "cell_type": "markdown",
   "metadata": {},
   "source": [
    "The variable `i` takes in the for loop the values 0, 1 and 2 sequentially and therefore the `print` command will be repeated three times. \n",
    "\n",
    "Similarly, in the next example, the variable `animal` take first the value `cat`, then `dog` and in the end `bird`."
   ]
  },
  {
   "cell_type": "code",
   "execution_count": 37,
   "metadata": {},
   "outputs": [
    {
     "name": "stdout",
     "output_type": "stream",
     "text": [
      "cat\n",
      "dog\n",
      "bird\n"
     ]
    }
   ],
   "source": [
    "for animal in ['cat', 'dog', 'bird']:\n",
    "    print(animal)"
   ]
  },
  {
   "cell_type": "markdown",
   "metadata": {},
   "source": [
    "Now that we know how to repeat a specific command multiple times we can see that if we want to do this process 1000 times it will not be convenient to use a list with integer numbers from 0 to 999. In this case we use the function `range` that creates a sequence of values from a start value `start`, up to a value `stop-1` and they differ by `step`.\n",
    "\n",
    "The general syndax is\n",
    "\n",
    "`range([start ,] stop [,step])`\n",
    "\n",
    "where the values in the square brakets can be omitted."
   ]
  },
  {
   "cell_type": "code",
   "execution_count": 38,
   "metadata": {},
   "outputs": [
    {
     "name": "stdout",
     "output_type": "stream",
     "text": [
      "0\n",
      "1\n",
      "2\n",
      "3\n",
      "4\n"
     ]
    }
   ],
   "source": [
    "for i in range(5):\n",
    "    print(i)"
   ]
  },
  {
   "cell_type": "code",
   "execution_count": 39,
   "metadata": {},
   "outputs": [
    {
     "name": "stdout",
     "output_type": "stream",
     "text": [
      "2\n",
      "5\n",
      "8\n"
     ]
    }
   ],
   "source": [
    "for i in range(2,10,3):\n",
    "    print(i)"
   ]
  },
  {
   "cell_type": "markdown",
   "metadata": {},
   "source": [
    "To compute the sume of the first 100 integers we can write"
   ]
  },
  {
   "cell_type": "code",
   "execution_count": 40,
   "metadata": {},
   "outputs": [
    {
     "name": "stdout",
     "output_type": "stream",
     "text": [
      "5050\n"
     ]
    }
   ],
   "source": [
    "sum = 0\n",
    "for i in range(1,101):\n",
    "    sum = sum + i\n",
    "    \n",
    "print(sum)"
   ]
  },
  {
   "cell_type": "markdown",
   "metadata": {},
   "source": [
    "> Python is a space-sensitive language and different blocks of code can be distinguished using tabs (4 spaces)"
   ]
  },
  {
   "cell_type": "markdown",
   "metadata": {},
   "source": [
    "Related to the `for` statement are the control statements `break` and `continue`.  Ideally we can create a loop with logic that can avoid these but sometimes code can be more readable with judicious use of these statements."
   ]
  },
  {
   "cell_type": "markdown",
   "metadata": {},
   "source": [
    "#### Creating a uniform grid"
   ]
  },
  {
   "cell_type": "markdown",
   "metadata": {},
   "source": [
    "Assume we want to divide the interval $[a,b]$ into $N$ subintervals. For example, let's take the interval $[0,1]$ and try to create a grid of 5 points (this means we will need 4 intervals)."
   ]
  },
  {
   "cell_type": "code",
   "execution_count": 41,
   "metadata": {},
   "outputs": [
    {
     "name": "stdout",
     "output_type": "stream",
     "text": [
      "[0.0, 0.25, 0.5, 0.75, 1.0]\n"
     ]
    }
   ],
   "source": [
    "a = 0.0; b = 1.0;\n",
    "N= 4 # then number of subintervals\n",
    "h = (b-a)/float(N)\n",
    "x = a # the starting node\n",
    "mesh = [x] # initialization of the list mesh\n",
    "for i in range(N):\n",
    "    x = x + h\n",
    "    mesh.append(x)\n",
    "print(mesh)"
   ]
  },
  {
   "cell_type": "markdown",
   "metadata": {},
   "source": [
    "#### Nested loops\n",
    "\n",
    "Sometimes we need to use a `for` loop inside another `for` loop. For example let's try to access all the entries of the matrix \n",
    "$$A = \\begin{pmatrix}\n",
    "11 & 12 & 13\\\\\n",
    "21 & 22 & 23\\\\\n",
    "31 & 32 & 33\n",
    "\\end{pmatrix}\\ .$$\n",
    "In this case, working with rows for example, we need first to access the entries $11$, $12$, $13$ of the first row, then the entries $21$, $22$, $23$ of the second row and finally the entries $31$, $32$, $33$ of the third row. So we need a `for` loop for each row and while we are working with the specific row, we need a second loop for each entry of the specific row, i.e. for each column. This can be implemented using a nested loop as follows:\n"
   ]
  },
  {
   "cell_type": "code",
   "execution_count": 42,
   "metadata": {},
   "outputs": [
    {
     "name": "stdout",
     "output_type": "stream",
     "text": [
      "11\n",
      "12\n",
      "13\n",
      "21\n",
      "22\n",
      "23\n",
      "31\n",
      "32\n",
      "33\n"
     ]
    }
   ],
   "source": [
    "A = [[11, 12, 13], \n",
    "     [21, 22, 23], \n",
    "     [31, 32, 33]]\n",
    "\n",
    "for i in range(3):\n",
    "    for j in range(3):\n",
    "        print( A[i][j] )\n",
    "        "
   ]
  },
  {
   "cell_type": "markdown",
   "metadata": {},
   "source": [
    "### Boolean type of variables\n",
    "\n",
    "So far we have encountered types of variables such as integers, floats, strings, lists, tuples etc., but there are even more types. A very useful type of variables is the boolean (logical). These variables can take the values `True` or `False` only. Assigning values to a boolean variables like assigning to this variables an integer value, for example 1 if it is `True` and 0 if it is `False`. These variables can tell us if a statement is true or false. To understand how this can be done, consider the logical statement $1<2$. This statement is true since we know that 1 is less than 2. For Python, this is a boolean operation, and the result is true. In order to see that, we store the result in the variable $a$ (boolean) by typing `a = 1<2` or  `a = (1<2)` and we print it."
   ]
  },
  {
   "cell_type": "code",
   "execution_count": 43,
   "metadata": {},
   "outputs": [
    {
     "name": "stdout",
     "output_type": "stream",
     "text": [
      "True\n"
     ]
    }
   ],
   "source": [
    "a = 1<2\n",
    "\n",
    "print(a)"
   ]
  },
  {
   "cell_type": "markdown",
   "metadata": {},
   "source": [
    "There are several boolean (logical) operations. It is worth stressing again that the operator `=` doesn't mean equation or equality but assignment as it assigns to the variable on the left side whatever is the result on the right side of the operator. In order to compare two numbers or variables to see if they are the same (equal) we use the operator `==`. To see if they are not equal then we use the operator `!=`. For example let us check if $1=1$. This can be done by typing `1==1`, or `1!=1`. The first operation gives the result `True` since $1=1$ indeed. The second operation gives the result `False` since the statement $1\\not=1$ is false."
   ]
  },
  {
   "cell_type": "code",
   "execution_count": 44,
   "metadata": {},
   "outputs": [
    {
     "name": "stdout",
     "output_type": "stream",
     "text": [
      "True\n",
      "False\n"
     ]
    }
   ],
   "source": [
    "print(1==1)\n",
    "\n",
    "print(1!=1)"
   ]
  },
  {
   "cell_type": "markdown",
   "metadata": {},
   "source": [
    "A complete list of boolean operators in Python is presented in the following table:\n",
    "\n",
    "| Symbol | Boolean expression | Operation |\n",
    "| --- | --- | --- |\n",
    "| `<` | Less than | `x<y` |\n",
    "| `>` | Greater than | `x>y` |\n",
    "| `==` | Equal to | `x==y` |\n",
    "| `!=` | Not Equal to | `x!=y` |\n",
    "| `<=` | Less than or equal to | `x<=y` |\n",
    "| `>=` | Greater than or equal to | `x>=y`|\n"
   ]
  },
  {
   "cell_type": "markdown",
   "metadata": {},
   "source": [
    "### `while` loops\n",
    "\n",
    "Now we are ready to discuss another kind of loop which can do a similar job to the \\texttt{for} loop. This is the `while` loop. A `while` loop executes the code block contained in its loop until a specified condition becomes `False`. The syntax of a `while` loop is as follows:"
   ]
  },
  {
   "cell_type": "code",
   "execution_count": 45,
   "metadata": {},
   "outputs": [
    {
     "name": "stdout",
     "output_type": "stream",
     "text": [
      "1\n",
      "2\n",
      "3\n"
     ]
    }
   ],
   "source": [
    "i=1\n",
    "while i <= 3:\n",
    "    print(i)\n",
    "    i = i + 1"
   ]
  },
  {
   "cell_type": "markdown",
   "metadata": {},
   "source": [
    "In the previous code, initially we set the variable `i` to be equal to 1. Then, Python checks if $i\\leq 3$. If this is `True` then Python executes the block of commands within the specific loop, and then it returns back to the `while` statement to check again whether $i\\leq 3$. During the first loop Python prints the value of $i$, which is 1 and increases its value by 1. So the variable `i` becomes 2. Python then checks again if the value $i\\leq 3$ is `True` or `False`. If it is `True`, Python executes the block of code in the loop again, and repeats the same cycle until the value of the variable `i` becomes $i>3$ i.e. 4 since, here, `i` is an integer. \n",
    "\n",
    "It should be noted that if the `condition` is always `True` then Python executes the specific loop forever until we interrupt the execution. This is a typical bug when we use `while` loops. \n"
   ]
  },
  {
   "cell_type": "markdown",
   "metadata": {},
   "source": [
    "### Decisions and the `if` statement\n",
    "\n",
    "Sometimes, the flow of our code needs to change depending on the result of a  boolean (logical) operation. For example, assume we want to divide 10 by a variable $x$. If $x=0$ we know that this is impossible. For this reason we need to use the `if` statement. This is formulated as:"
   ]
  },
  {
   "cell_type": "code",
   "execution_count": 46,
   "metadata": {},
   "outputs": [
    {
     "name": "stdout",
     "output_type": "stream",
     "text": [
      "5.0\n"
     ]
    }
   ],
   "source": [
    "x = 2\n",
    "\n",
    "if x != 0:\n",
    "    print(10/x)"
   ]
  },
  {
   "cell_type": "code",
   "execution_count": 47,
   "metadata": {},
   "outputs": [],
   "source": [
    "x = 0\n",
    "\n",
    "if x != 0:\n",
    "    print(10/x)"
   ]
  },
  {
   "cell_type": "markdown",
   "metadata": {},
   "source": [
    "The previous `if` statements are executed only if the variable $x\\not=0$. In the first case because `x=2` the result is `5.0` while in the second case the command print will not be executed because `x=0` and thus the boolean variable `x != 0` is `False`."
   ]
  },
  {
   "cell_type": "markdown",
   "metadata": {},
   "source": [
    "If we want to exhaust all possible scenarios, we need to use another `if` statement with the case $x=0$. For example, we could tell Python to print an error method if $x=0$. This can be done with the `elif` or/and the `else` statements. The command `elif` is an abbreviation of *else if* and we need to provide a new condition. On the other hand, with the `else` statement, there is no need to provide any additional condition as this statement will be executed if all the previous statements are `False`. In general, we can combine the `if` statement with `elif` and `else`. The general `if` statement can be formulated as:\n"
   ]
  },
  {
   "cell_type": "code",
   "execution_count": 48,
   "metadata": {},
   "outputs": [
    {
     "name": "stdout",
     "output_type": "stream",
     "text": [
      "Give me x = 2\n",
      "sign(x) = +1\n"
     ]
    }
   ],
   "source": [
    "x = int ( input('Give me x = ') )\n",
    "\n",
    "if x > 0:\n",
    "    print('sign(x) = +1')\n",
    "elif x < 0:\n",
    "    print('sign(x) = -1')\n",
    "else:\n",
    "    print('sign(x) = 0')"
   ]
  },
  {
   "cell_type": "markdown",
   "metadata": {},
   "source": [
    "The complete code for the example with the division would be:"
   ]
  },
  {
   "cell_type": "code",
   "execution_count": 49,
   "metadata": {},
   "outputs": [
    {
     "name": "stdout",
     "output_type": "stream",
     "text": [
      "Give me x = 2\n",
      "5.0\n"
     ]
    }
   ],
   "source": [
    "x = int ( input('Give me x = ') )\n",
    "\n",
    "if x != 0:\n",
    "    print(10/x)\n",
    "else:\n",
    "    print('Division impossible')"
   ]
  },
  {
   "cell_type": "markdown",
   "metadata": {},
   "source": [
    "where the division can be performed if $x\\not= 0$, otherwise the code prints the message `Division impossible`. "
   ]
  },
  {
   "cell_type": "markdown",
   "metadata": {},
   "source": [
    "## Functions\n",
    "\n",
    "Sometimes we need to repeat a certain number of statements several times. However, it is not convenient to repeat the same lines of code again and again. It is a common practice to include code that we want to use repeatedly in discrete blocks of code known as functions. These functions take some input and return some output, and we can use them by calling their name and without caring about their content. Python functions can be thought of as factories where we give them the input, the function will process it, and finally will return the result to us. The general notion of a Python function is not far from the general notion of a mathematical function. In mathematics we define a function as $y=f(x)$ where $f$ is the name of the function, $x$ is the input and $y$ is the output. Similarly, in Python we define a function first by using the keyword `def` to indicate that we will define a function, and then we specify the name of the function and the input. If the input consists of more than one variable we separate them with commas. We close the line of the definition with the slice operator `:` and a block of code with the process follows. The result of the function is indicated at the very end of the function with the keyword `return`. It is noted that we can return multiple variables or multiple values with the return statement."
   ]
  },
  {
   "cell_type": "markdown",
   "metadata": {},
   "source": [
    "As a first example we define a function that we will call \\texttt{double}.  This function will take as input a number $x$, and will return the product $2x$. \n"
   ]
  },
  {
   "cell_type": "code",
   "execution_count": 50,
   "metadata": {},
   "outputs": [],
   "source": [
    "def double(x):\n",
    "    y = 2 * x\n",
    "    return y"
   ]
  },
  {
   "cell_type": "markdown",
   "metadata": {},
   "source": [
    "We can call this function now anywhere in our code just by using its name and a valid argument $x$. The result can be stored in a new variable, or it can be printed on the screen:"
   ]
  },
  {
   "cell_type": "code",
   "execution_count": 51,
   "metadata": {},
   "outputs": [
    {
     "name": "stdout",
     "output_type": "stream",
     "text": [
      "7\n",
      "6\n"
     ]
    }
   ],
   "source": [
    "x = 3\n",
    "\n",
    "r = double(x)+1\n",
    "\n",
    "print(r)\n",
    "\n",
    "print(double(x))"
   ]
  },
  {
   "cell_type": "markdown",
   "metadata": {},
   "source": [
    "Sometimes, we can give default value to one or all input variables. For example, if we want to compute the maximum between two variables without using Python's built-in function `max` we define the function:"
   ]
  },
  {
   "cell_type": "code",
   "execution_count": 52,
   "metadata": {},
   "outputs": [
    {
     "name": "stdout",
     "output_type": "stream",
     "text": [
      "0\n",
      "5\n",
      "5\n",
      "5\n"
     ]
    }
   ],
   "source": [
    "def max(x, y = 0):\n",
    "    if x >= y:\n",
    "        return x\n",
    "    else:\n",
    "        return y\n",
    "    \n",
    "print( max( -1 ) )\n",
    "\n",
    "print( max( 2, 5 ) )\n",
    "\n",
    "print( max( x=2, y=5 ) )\n",
    "\n",
    "x=2; y=5;\n",
    "print( max( x, y ) )"
   ]
  },
  {
   "cell_type": "markdown",
   "metadata": {},
   "source": [
    "In Python, the variables used inside a function are local variables and their scope is only local. Local variables cannot be seen (or used) outside the function."
   ]
  },
  {
   "cell_type": "markdown",
   "metadata": {},
   "source": [
    "To see this consider the following function `swap` and discover the scope of the variables `x` and `y`\n"
   ]
  },
  {
   "cell_type": "code",
   "execution_count": 53,
   "metadata": {},
   "outputs": [
    {
     "name": "stdout",
     "output_type": "stream",
     "text": [
      "local variables: x =  3 y =  2\n",
      "global variables: x =  2 y =  3\n"
     ]
    }
   ],
   "source": [
    "def swap(x, y):\n",
    "    temp = x\n",
    "    x = y\n",
    "    y = temp\n",
    "    print('local variables: x = ',x , 'y = ', y)\n",
    "    return x, y\n",
    "\n",
    "x = 2; y = 3;\n",
    "\n",
    "swap(x, y)\n",
    "\n",
    "print('global variables: x = ',x , 'y = ', y)"
   ]
  },
  {
   "cell_type": "markdown",
   "metadata": {},
   "source": [
    "Finally, we discuss an alternative way to define functions in one line of code using the Python `lambda` statement. This is useful if our function has a simple formula and can be described in one line. Specifically, if we want to define a function with formula $f(x)$ this can be done by typing\n",
    "\n",
    "`f = lambda x: f(x)`\n",
    "\n",
    "where `f(x)` is the formula of the function. For example,"
   ]
  },
  {
   "cell_type": "code",
   "execution_count": 54,
   "metadata": {},
   "outputs": [
    {
     "name": "stdout",
     "output_type": "stream",
     "text": [
      "2\n"
     ]
    }
   ],
   "source": [
    "f = lambda x : x + 1\n",
    "\n",
    "print(f(1))"
   ]
  },
  {
   "cell_type": "markdown",
   "metadata": {},
   "source": [
    "### Recursive Functions\n",
    "\n",
    "An example of a recursive function is the Fibonacci sequence of numbers\n",
    "$$0, 1, 1, 2, 3, 5, 8, 13, 21, 34, 55, 89, 144, 233, \\dots \\ .$$\n",
    "It is called recursive because you need the previous entry of the sequence in order to compute then next one. For the Fibonacci numbers, given $F(0)=0$ and $F(1)=1$ the rest of the Fibonacci numbers can be computed as\n",
    "$$F(n)=F(n-1)+F(n-2) \\quad\\text{for}\\quad n=2,3,\\dots \\ .$$\n",
    "\n",
    "This is implemented as follows:\n"
   ]
  },
  {
   "cell_type": "code",
   "execution_count": 55,
   "metadata": {},
   "outputs": [
    {
     "name": "stdout",
     "output_type": "stream",
     "text": [
      "0\n",
      "1\n",
      "1\n",
      "2\n",
      "3\n",
      "5\n",
      "8\n",
      "13\n",
      "21\n",
      "34\n",
      "55\n",
      "89\n",
      "144\n",
      "233\n"
     ]
    }
   ],
   "source": [
    "def Fibonacci(n):\n",
    "    if ( n==0 ): \n",
    "        return 0\n",
    "    elif ( n==1 ):\n",
    "        return 1\n",
    "    else:\n",
    "        return Fibonacci(n-1)+Fibonacci(n-2)\n",
    "# Print the first 14 Fibonacci numbers\n",
    "for i in range(14):\n",
    "    print( Fibonacci(i) )"
   ]
  }
 ],
 "metadata": {
  "kernelspec": {
   "display_name": "Python 3 (ipykernel)",
   "language": "python",
   "name": "python3"
  },
  "language_info": {
   "codemirror_mode": {
    "name": "ipython",
    "version": 3
   },
   "file_extension": ".py",
   "mimetype": "text/x-python",
   "name": "python",
   "nbconvert_exporter": "python",
   "pygments_lexer": "ipython3",
   "version": "3.10.9"
  }
 },
 "nbformat": 4,
 "nbformat_minor": 2
}

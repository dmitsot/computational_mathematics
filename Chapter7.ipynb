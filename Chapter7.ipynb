{
 "cells": [
  {
   "cell_type": "markdown",
   "metadata": {},
   "source": [
    "# Computational Mathematics\n",
    "## An Introduction to Numerical Analysis and Scientific Computing with Python\n",
    "### By Dimitrios Mitsotakis"
   ]
  },
  {
   "cell_type": "markdown",
   "metadata": {},
   "source": [
    "# Chapter 7: Numerical Integration"
   ]
  },
  {
   "cell_type": "markdown",
   "metadata": {},
   "source": [
    "### Midpoint rule\n",
    "\n",
    "The simplest of all quadrature rules is the midpoint rule with one interval $[a,b]=[x_0,x_1]$. We take the point $z_0$ to be the midpoint $z_0=\\frac{a+b}{2}$. This quadrature rule approximates the area prescribed by the graph of $f$, the lines $x=a$, $x=b$ and the $x$-axis with the area of the parallelogram with sides $z_0$ and $x_1-x_0$. The approximate formula of an integral $I[f]$ is given by\n",
    "$$I[f]\\approx I_0[f]=w_0f(z_0)=(b-a)f\\left(\\frac{a+b}{2} \\right)\\ .$$"
   ]
  },
  {
   "cell_type": "markdown",
   "metadata": {},
   "source": [
    "### Composite midpoint rule"
   ]
  },
  {
   "cell_type": "markdown",
   "metadata": {},
   "source": [
    "Divide the interval $[a,b]$ into $N$ subintervals of the form $[x_i,x_{i+1}]$ for $i=0,1,\\dots, N$, such that $a=x_0<x_1<\\cdots<x_{N+1}=b$. The intervals $[x_i,x_{i+1}]$ have uniform length $h=x_{i+1}-x_i$.\n",
    "\n",
    "Write the integral $I[f]$ as\n",
    "$$I[f]=\\int_a^bf(x)~dx=\\sum_{i=0}^N \\int_{x_i}^{x_{i+1}} f(x)~dx\\ .$$\n",
    "\n",
    "Apply the midpoint rule to the smaller intervals $[x_i,x_{i+1}]$. Choose $z_i$ to be the midpoint of the interval $[x_i,x_{i+1}]$, that is\n",
    "$$z_i=\\frac{x_i+x_{i+1}}{2}\\ .$$\n",
    "\n",
    "The application of midpoint rule in each of these intervals gives\n",
    "$$ \\int_{x_i}^{x_{i+1}} f(x)~dx\\approx (x_{i+1}-x_i)f\\left(\\frac{x_i+x_{i+1}}{2}\\right)=hf\\left(\\frac{x_i+x_{i+1}}{2}\\right)\\ ,$$\n",
    "which leads to the composite midpoint rule\n",
    "$$I_N[f]=\\sum_{i=0}^N(x_{i+1}-x_i)f\\left(\\frac{x_i+x_{i+1}}{2}\\right)=h\\sum_{i=0}^Nf\\left(\\frac{x_i+x_{i+1}}{2}\\right)\\ .$$"
   ]
  },
  {
   "cell_type": "markdown",
   "metadata": {},
   "source": [
    "#### Example\n",
    "\n",
    "Calculate and illustrate the midpoint rule.  Note that we are computing the cummulative integral here:\n",
    "\n",
    "$$\n",
    "    \\int_0^{2\\pi} sin(x) dx = \\left . -\\cos (x) \\right|_0^{2\\pi} = 0\n",
    "$$"
   ]
  },
  {
   "cell_type": "code",
   "execution_count": 1,
   "metadata": {},
   "outputs": [],
   "source": [
    "import numpy as np"
   ]
  },
  {
   "cell_type": "code",
   "execution_count": 2,
   "metadata": {},
   "outputs": [
    {
     "name": "stdout",
     "output_type": "stream",
     "text": [
      "Result = -1.3139323596589723e-16\n"
     ]
    }
   ],
   "source": [
    "f = lambda x: np.sin(x)\n",
    "N = 10 # intervals\n",
    "a = 0.0; b= 2.0*np.pi; h=(b-a)/N\n",
    "x = np.linspace(a, b, N+1)\n",
    "z = (x[1:] + x[:-1]) / 2.0\n",
    "w = h*np.ones_like(z)\n",
    "quad = np.inner(w, f(z))\n",
    "print('Result =', quad)"
   ]
  },
  {
   "cell_type": "markdown",
   "metadata": {},
   "source": [
    "## Newton-Cotes Quadrature Rules\n",
    "\n",
    "Using $N+1$ equally spaced points $a = x_0 < x_1 < \\ldots < x_N = b$, we evaluate $f(x)$ at these points and exactly integrate the interpolating polynomial $P_N(x)=\\sum_{i=0}^N f(x_i)\\ell_i(x)$:\n",
    "\n",
    "$$\n",
    "\\begin{aligned}\n",
    "I_N[f] &= \\int^b_a P_N(x) dx\\\\\n",
    "&=\\sum_{i=0}^N\\left[f(x_i)\\int_a^b \\ell_i(x)dx \\right]\\\\\n",
    "&=\\sum_{i=0}^N w_i f(x_i)\n",
    "\\end{aligned}\n",
    "$$\n",
    "\n",
    "where \n",
    "\n",
    "$$w_i=\\int_a^b \\ell_i(x)dx,\\quad i=0,1,\\cdot, N$$"
   ]
  },
  {
   "cell_type": "markdown",
   "metadata": {},
   "source": [
    "### Trapezoidal rule\n",
    "\n",
    "Trapezoidal rule uses $N=1$, i.e. linear polynomials to approximate the function $f(x)$. \n",
    "\n",
    "For $N=1$ we have \n",
    "\n",
    "$$I_1[f]=[f(a)+f(b)]\\frac{h}{2}$$\n"
   ]
  },
  {
   "cell_type": "markdown",
   "metadata": {},
   "source": [
    "### Composite trapezoidal rule\n",
    "\n",
    "In practice the trapezoidal rule is applied separetely in divisions of the interval $(a,b)$. For example we consider $N$ intervals $[x_i,x_{i+1}]$, for $i=0,1,\\cdots, N-1$ and we apply the trapezoidal rule in each subinterval:\n",
    "\n",
    "$$\n",
    "I_i=[f(x_i)+f(x_{i+1})]\\frac{h}{2}\n",
    "$$\n",
    "\n",
    "where $h=x_{i+1}-x_i$, for $i=0,1,2,\\cdots, N$.\n",
    "\n",
    "Hence the total area is given by the composite trapezoidal rule:\n",
    "\n",
    "$$I_N[f]=\\sum_{i=0}^{N-1}I_i= [f(x_0)+2f(x_1)+2f(x_2)+\\cdots+2 f(x_{N-1})+f(x_N)]\\frac{h}{2}$$"
   ]
  },
  {
   "cell_type": "markdown",
   "metadata": {},
   "source": [
    "Here is a Python implementation:"
   ]
  },
  {
   "cell_type": "code",
   "execution_count": 3,
   "metadata": {},
   "outputs": [],
   "source": [
    "def trapezoidal(f, a, b, N):\n",
    "    # Composite trapezoidal rule with N subintervals\n",
    "    x = np.linspace(a, b, N+1)\n",
    "    y = f(x)\n",
    "    h = (b - a)/N\n",
    "    # First add the internal nodes\n",
    "    sum = 0.0\n",
    "    for i in range(1,N):\n",
    "        sum += 2.0*y[i]\n",
    "    # Add the two boundary nodes\n",
    "    sum = 0.5*h*(f(a) + sum + f(b))\n",
    "    return sum"
   ]
  },
  {
   "cell_type": "code",
   "execution_count": 4,
   "metadata": {},
   "outputs": [
    {
     "data": {
      "text/plain": [
       "0.9979429863543572"
      ]
     },
     "execution_count": 4,
     "metadata": {},
     "output_type": "execute_result"
    }
   ],
   "source": [
    "f = lambda x: np.sin(x)\n",
    "\n",
    "trapezoidal(f, 0.0, np.pi/2.0, 10)"
   ]
  },
  {
   "cell_type": "markdown",
   "metadata": {},
   "source": [
    "### Simpson's rule\n",
    "\n",
    "Simpson's 1/3 rule uses $N=2$ and thus quadratic polynomials:\n",
    "\n",
    "\n",
    "$$\n",
    "I_2=\\sum_{i=0}^2 w_i f(x_i)=\\left[f(a)+4f\\left(\\frac{a+b}{2} \\right)+f(b) \\right] \\frac{h}{3}\n",
    "$$\n"
   ]
  },
  {
   "cell_type": "markdown",
   "metadata": {},
   "source": [
    "### Composite Simpson's rule\n",
    "\n",
    "Similarly to the composite trapezoidal rule we consider $N$ intervals $[x_i,x_{i+1}]$, for $i=0,1,\\dots, N-1$ and we apply the trapezoidal rule in each interval $[x_i,x_{i+2}]$:\n",
    "\n",
    "$$\n",
    "I_i=[f(x_i)+4f(x_{i+1})+f(x_{i+2})]\\frac{h}{3}\n",
    "$$\n",
    "\n",
    "and thus\n",
    "\n",
    "$$I_N[f]= [f(x_0)+4f(x_1)+2f(x_2)+4f(x_3)+\\cdots+2 f(x_{N-2})+4f(x_{N-1})+f(x_N)]\\frac{h}{3}$$\n",
    "\n",
    "**Remark:** <font color='red'> Observe that Simpson's rule requires $N$ to be even!</font>\n"
   ]
  },
  {
   "cell_type": "code",
   "execution_count": 5,
   "metadata": {},
   "outputs": [],
   "source": [
    "def Simpson(f, a, b, N): \n",
    "# Composite Simpson rule with N subintervals\n",
    "    h = (b - a)/float(N)\n",
    "    x=np.linspace(a, b, N + 1)\n",
    "    s = f(x)\n",
    "    s[1:N]=2*s[1:N]\n",
    "    s[1:N:2]=2*s[1:N:2]\n",
    "    return h/3.0*np.sum(s)"
   ]
  },
  {
   "cell_type": "code",
   "execution_count": 6,
   "metadata": {},
   "outputs": [
    {
     "data": {
      "text/plain": [
       "1.0000033922209004"
      ]
     },
     "execution_count": 6,
     "metadata": {},
     "output_type": "execute_result"
    }
   ],
   "source": [
    "f = lambda x: np.sin(x)\n",
    "\n",
    "Simpson(f, 0.0, np.pi/2.0, 10)"
   ]
  },
  {
   "cell_type": "markdown",
   "metadata": {},
   "source": [
    "## Degree of Exactness\n",
    "\n",
    "The degree of exactness of a quadrature formula $I_N[f]$ refers to the highest degree of polynomial that the formula can exactly integrate. In other words the degree of exactness is the integer $n$ such that the quadrature error $E[x^k] = 0$ for all $k=0,1,\\dots, n$ and $E[x^{n+1}] \\neq 0$.\n",
    "\n",
    "Although Simpson's rule was designed to be exact for polynomials of degree 2 it happens to be exact also for polynomials of degree 3 and therefore has degree of precision 3."
   ]
  },
  {
   "cell_type": "markdown",
   "metadata": {},
   "source": [
    "## Gauss-Legendre quadrature rules"
   ]
  },
  {
   "cell_type": "markdown",
   "metadata": {},
   "source": [
    "The key ingredient in Gaussian quadrature is the choice of the quadrature nodes, which are not equally spaced and do not include the end-points of the integration interval. In the approximation of an integral using the general quadrature formula\n",
    "$$\n",
    "\\int_{-1}^1f(x)\\ dx\\approx \\sum_{i=0}^N w_i f(z_i)\\ ,\n",
    "$$\n",
    "the nodes $z_0, z_1,\\ldots, z_N$ in the interval $[-1,1]$ and coefficients $w_0,w_1,\\ldots, w_N,$ need to be chosen appropriately."
   ]
  },
  {
   "cell_type": "markdown",
   "metadata": {},
   "source": [
    "In the Gauss-Legendre quadrature rule the quadrature nodes $z_0,z_1,\\ldots, z_N$ are the roots of the $(N+1)$-th Legendre polynomial $P_{N+1}(x)$ in $[-1,1]$ and the weights $w_i$ for $i=0,1,\\ldots, N$ are defined as\n",
    "$$\n",
    "w_i=\\int_{-1}^1 \\prod_{j=0\\atop j\\not=i}^N \\frac{x-z_j}{z_i-z_j}\\ dx\\ .\n",
    "$$"
   ]
  },
  {
   "cell_type": "markdown",
   "metadata": {},
   "source": [
    "The nodes and weights for the first few Gauss-Legendre formulas are summarized in the following table:\n",
    "\n",
    "<table width=\"80%\">\n",
    "    <tr align=\"center\"><th>$$N$$</th> <th align=\"center\">$$x_i$$</th> <th align=\"center\"> $$w_i$$ </th></tr>\n",
    "    <tr align=\"center\"><td>$$1$$</td>           <td> $$0$$ </td> <td> $$2$$ </td> </tr>\n",
    "    <tr align=\"center\"><td>$$2$$</td>           <td> $$\\pm \\sqrt{\\frac{1}{3}}$$ </td> <td> $$1$$ </td> </tr>\n",
    "    <tr align=\"center\"><td rowspan=2>$$3$$</td> <td> $$0$$ </td> <td> $$8/9$$ </td> </tr>\n",
    "    <tr align=\"center\">                     <td> $$\\pm \\sqrt{\\frac{3}{5}}$$ </td> <td> $$5/9$$</td> </tr>\n",
    "    <tr align=\"center\"><td rowspan=2>$$4$$</td> <td> $$\\pm \\sqrt{\\frac{3}{7} - \\frac{2}{7} \\sqrt{\\frac{6}{5}}}$$</td> <td> $$\\frac{18 + \\sqrt{30}}{36}$$ </td> </tr>\n",
    "    <tr align=\"center\">                     <td> $$\\pm \\sqrt{\\frac{3}{7} + \\frac{2}{7} \\sqrt{\\frac{6}{5}}}$$</td> <td>$$\\frac{18 - \\sqrt{30}}{36}$$ </td> </tr>\n",
    "    <tr align=\"center\"><td rowspan=3>$$5$$</td> <td> $$0$$ </td> <td> $$\\frac{128}{225}$$ </td> </tr>\n",
    "    <tr align=\"center\">                     <td> $$\\pm \\frac{1}{3} \\sqrt{5 - 2 \\sqrt{\\frac{10}{7}}}$$</td> <td> $$\\frac{322 + 13\\sqrt{70}}{900}$$</td> </tr>\n",
    "    <tr align=\"center\">                     <td> $$\\pm \\frac{1}{3} \\sqrt{5 + 2 \\sqrt{\\frac{10}{7}}}$$</td> <td> $$\\frac{322 - 13\\sqrt{70}}{900}$$</td> </tr>\n",
    "</table>"
   ]
  },
  {
   "cell_type": "markdown",
   "metadata": {},
   "source": [
    "### Gaussian Quadrature on arbitrary intervals\n",
    "\n",
    "An integral $\\int_a^bf(x) \\ dx$ over an arbitrary interval $[a,b]$ can be transformed into an integral over $[-1,1]$ by using the change of variables:\n",
    "\n",
    "$$t=\\frac{2x-a-b}{b-a}\\Leftrightarrow x=\\frac{1}{2}[(b-a)t+a+b]$$\n",
    "\n",
    "This permits Gaussian quadrature to be applied to any interval $[a,b]$ because\n",
    "\n",
    "$$\\int_a^b f(x)\\ dx=\\int_{-1}^1 f\\left(\\frac{(b-a)t+(b+a)}{2} \\right)\\frac{(b-a)}{2}\\ dt$$\n",
    "\n",
    "So\n",
    "\n",
    "$$\\int_a^bf(x)\\ dx\\approx \\frac{b-a}{2}\\sum_{i=1}^N w_if\\left(\\frac{b-a}{2}t_i+\\frac{a+b}{2} \\right)$$"
   ]
  },
  {
   "cell_type": "markdown",
   "metadata": {},
   "source": [
    "An implementation of a Gauss-Legendre quadrature rule with $N=2$ can be the following:"
   ]
  },
  {
   "cell_type": "code",
   "execution_count": 7,
   "metadata": {},
   "outputs": [],
   "source": [
    "def GaussLegendre3(f, a, b):\n",
    "    # Implementation of Gauss-Legendre quadrature with \n",
    "    # 3 nodes in general interval $[a,b]$\n",
    "    N = 2\n",
    "    # define quadrature weights and nodes\n",
    "    w = np.array([5.0/9.0, 8.0/9.0, 5.0/9.0])\n",
    "    z = np.array([-np.sqrt(3.0/5.0), 0.0, np.sqrt(3.0/5.0)])\n",
    "    # implement formula (\\ref{eq:gengauleg})\n",
    "    c1 = (b-a)/2.0\n",
    "    c2 = (a+b)/2.0\n",
    "    s = c1*np.inner(w, f( c1*z + c2 ))\n",
    "    return s"
   ]
  },
  {
   "cell_type": "markdown",
   "metadata": {},
   "source": [
    "In order to test this function we consider the approximation of the integral\n",
    "$$\\frac{1}{2}\\int_{-2}^2 e^{x/2} \\cos (x/2)\\ dx=\\int_{-1}^1e^x\\cos x\\ dx=[(1+e^2)\\sin(1)-(1-e^2)\\cos(1)]/2e\\approx 1.9334214\\ ,$$\n",
    "using Gauss-Legendre quadrature with $N=3$."
   ]
  },
  {
   "cell_type": "code",
   "execution_count": 8,
   "metadata": {},
   "outputs": [
    {
     "data": {
      "text/plain": [
       "1.9333904692642976"
      ]
     },
     "execution_count": 8,
     "metadata": {},
     "output_type": "execute_result"
    }
   ],
   "source": [
    "f = lambda x: 0.5*np.exp(x/2.0)*np.cos(x/2.0)\n",
    "GaussLegendre3(f, -2.0, 2.0)"
   ]
  },
  {
   "cell_type": "markdown",
   "metadata": {},
   "source": [
    "Approximations of the Gauss-Legendre quadrature nodes and weights can be obtained in Python using the function `leggauss` of the module `numpy.polynomial.lagendre`."
   ]
  },
  {
   "cell_type": "markdown",
   "metadata": {},
   "source": [
    "## The Module `scipy.integrate`"
   ]
  },
  {
   "cell_type": "markdown",
   "metadata": {},
   "source": [
    "Each of the quadrature rules we have discussed so far is implemented in the module `scipy.integrate`"
   ]
  },
  {
   "cell_type": "markdown",
   "metadata": {},
   "source": [
    "### Trapezoidal rule\n",
    "\n",
    "The composite trapezoidal rule is implemented in the module \\texttt{scipy.integrate} with the function `trapezoid`"
   ]
  },
  {
   "cell_type": "code",
   "execution_count": 9,
   "metadata": {},
   "outputs": [
    {
     "name": "stdout",
     "output_type": "stream",
     "text": [
      "0.9979429863543573\n"
     ]
    }
   ],
   "source": [
    "from scipy.integrate import trapezoid\n",
    "f = lambda x: np.sin(x)\n",
    "x = np.linspace(0.0, np.pi/2.0, 11)\n",
    "y = f(x)\n",
    "print( trapezoid(y,x) )"
   ]
  },
  {
   "cell_type": "markdown",
   "metadata": {},
   "source": [
    "### Simpson's rule\n",
    "\n",
    "Composite Simpson's rule is implemented in the module `scipy.integrate` with the function `simpson`"
   ]
  },
  {
   "cell_type": "code",
   "execution_count": 10,
   "metadata": {},
   "outputs": [
    {
     "name": "stdout",
     "output_type": "stream",
     "text": [
      "1.0000033922209006\n"
     ]
    }
   ],
   "source": [
    "from scipy.integrate import simpson\n",
    "f = lambda x: np.sin(x)\n",
    "x = np.linspace(0.0, np.pi/2.0, 11)\n",
    "y = f(x)\n",
    "print( simpson(y,x) )"
   ]
  },
  {
   "cell_type": "markdown",
   "metadata": {},
   "source": [
    "### Gaussian quadrature\n",
    "\n",
    "A Gaussian quadrature rule is implemented in SciPy in the function `fixed_quad` of the module `scipy.integrate`"
   ]
  },
  {
   "cell_type": "code",
   "execution_count": 11,
   "metadata": {},
   "outputs": [
    {
     "name": "stdout",
     "output_type": "stream",
     "text": [
      "(1.9333904692642976, None)\n"
     ]
    }
   ],
   "source": [
    "from scipy.integrate import fixed_quad\n",
    "f = lambda x: 0.5*np.exp(x/2.0)*np.cos(x/2.0)\n",
    "print( fixed_quad(f,-2.0,2.0,n=3) )"
   ]
  },
  {
   "cell_type": "markdown",
   "metadata": {},
   "source": [
    "### General purpose quadrature\n",
    "\n",
    "SciPy has also general purpose functions that can control the quadrature error.  For example, such functions are the `quads` and `quadrature`. Here, we present a simple example:"
   ]
  },
  {
   "cell_type": "code",
   "execution_count": 12,
   "metadata": {},
   "outputs": [
    {
     "name": "stdout",
     "output_type": "stream",
     "text": [
      "(1.9334214962992706, 9.692340263711685e-10)\n"
     ]
    }
   ],
   "source": [
    "from scipy.integrate import quadrature\n",
    "f = lambda x: 0.5*np.exp(x/2.0)*np.cos(x/2.0)\n",
    "print( quadrature(f,-2.0,2.0,tol=1.e-15,maxiter=100) )"
   ]
  },
  {
   "cell_type": "markdown",
   "metadata": {},
   "source": [
    "## Application in Classical Mechanics"
   ]
  },
  {
   "cell_type": "markdown",
   "metadata": {},
   "source": [
    "Consider the table with the force $f$ at a location $x$\n",
    "\n",
    "$$ \\begin{array}{cccccccccccccccc}\n",
    "x_i & 0.0 & 0.1 & 0.2 & 0.3 & 0.4 & 0.5 & 0.6 & 0.7 & 0.8 & 0.9 & 1.0 & 1.1 & 1.2 & 1.3 & 1.4 \\\\\n",
    "f(x_i) & 0.0 & 0.45 & 1.45 & 2.3 & 3.1 & 3.1 & 3.1 & 2.5 & 1.1 & 1.1 & 1.1 & 0.8 & 0.6 & 0.3 & 0.0\n",
    "\\end{array}\n",
    "$$\n",
    "\n",
    "We compute the work done by the particular force using the trapezoidal rule as follows:"
   ]
  },
  {
   "cell_type": "code",
   "execution_count": 13,
   "metadata": {},
   "outputs": [
    {
     "name": "stdout",
     "output_type": "stream",
     "text": [
      "2.1\n"
     ]
    }
   ],
   "source": [
    "from scipy.integrate import trapezoid\n",
    "import numpy as np\n",
    "\n",
    "x = np.arange(0.0,1.5,0.1)\n",
    "y = np.array([0.0, 0.45, 1.45, 2.3, 3.1, 3.1, 3.1,\n",
    "              2.5, 1.1, 1.1, 1.1, 0.8, 0.6, 0.3, 0.0])\n",
    "print( trapezoid(y,x) )\n"
   ]
  }
 ],
 "metadata": {
  "kernelspec": {
   "display_name": "Python 3 (ipykernel)",
   "language": "python",
   "name": "python3"
  },
  "language_info": {
   "codemirror_mode": {
    "name": "ipython",
    "version": 3
   },
   "file_extension": ".py",
   "mimetype": "text/x-python",
   "name": "python",
   "nbconvert_exporter": "python",
   "pygments_lexer": "ipython3",
   "version": "3.10.9"
  }
 },
 "nbformat": 4,
 "nbformat_minor": 2
}
